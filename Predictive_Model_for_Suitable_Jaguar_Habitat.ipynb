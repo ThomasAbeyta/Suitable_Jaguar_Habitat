{
  "nbformat": 4,
  "nbformat_minor": 0,
  "metadata": {
    "colab": {
      "provenance": [],
      "gpuType": "T4",
      "collapsed_sections": [
        "xviiJx_QrR2K",
        "s6jMcIbW3P5o",
        "tuyc3uWanchw"
      ],
      "include_colab_link": true
    },
    "kernelspec": {
      "name": "python3",
      "display_name": "Python 3"
    },
    "language_info": {
      "name": "python"
    },
    "gpuClass": "standard"
  },
  "cells": [
    {
      "cell_type": "markdown",
      "metadata": {
        "id": "view-in-github",
        "colab_type": "text"
      },
      "source": [
        "<a href=\"https://colab.research.google.com/github/ThomasAbeyta/Suitable_Jaguar_Habitat/blob/main/Predictive_Model_for_Suitable_Jaguar_Habitat.ipynb\" target=\"_parent\"><img src=\"https://colab.research.google.com/assets/colab-badge.svg\" alt=\"Open In Colab\"/></a>"
      ]
    },
    {
      "cell_type": "markdown",
      "source": [
        "#Image Classification with Deep Learning"
      ],
      "metadata": {
        "id": "cJG_e1vK2NMI"
      }
    },
    {
      "cell_type": "markdown",
      "source": [
        "## Mission: \n",
        "The primary objective of this study is to undersand what is a Jaguar habitat along the Guatamalen border. Not having a background in ecology nor much knowledge on juguars I will begin by building a comprehension of the ecological niche, behavioral patterns, and environmental relationships of the jaguar. Toward this end, I will begin building a predictive model that can be established to aid conservation initiatives."
      ],
      "metadata": {
        "id": "FrLQAaiCHBPF"
      }
    },
    {
      "cell_type": "markdown",
      "source": [
        "## Background:\n",
        "This project is a collaboration from a past client and long time friend Jesse Sprague. He is an Earth and Planetary Science graduate with a strong interest in the intersection of technology and nature. He has extensive experience in remote sensing data and has worked as a spatial data scientist, software engineer, and architect. Currently, as the founder of ASIO, he is dedicated to promoting collaboration and spatial data integration to ensure environmental stewardship and sustainable living.\n",
        "\n",
        "The GPS data comes from Dr. Gerardo Ceballos he is a renowned ecologist and Full-Time \"C\" Senior Researcher at the UNAM Institute of Ecology. \n"
      ],
      "metadata": {
        "id": "Kl8eorTsmQj-"
      }
    },
    {
      "cell_type": "markdown",
      "source": [
        "Similiar research:\n",
        "https://link.springer.com/article/10.1007/s10980-021-01335-2#data-availability"
      ],
      "metadata": {
        "id": "vrP91DfjoGo2"
      }
    },
    {
      "cell_type": "markdown",
      "source": [
        "Stat analysis (why not to use centroid)\n",
        "- Activity patterns: Jaguars are elusive and primarily nocturnal predators, and their activity patterns can vary depending on prey availability, breeding season, or other environmental factors. \n",
        "- Temporal resolution:if the jaguar is more active at night and rests during the day, the centroid might be biased towards its resting locations.\n",
        "- Individual variation: The behavior of individual jaguars might differ due to factors such as sex, age, or territorial status.\n",
        "\n"
      ],
      "metadata": {
        "id": "FKbN1MkRmPpL"
      }
    },
    {
      "cell_type": "markdown",
      "source": [
        "## Neural Networks\n",
        "- Nonlinearity: Neural networks can capture complex, non-linear relationships between environmental variables and species presence or habitat suitability, which may be difficult to represent using traditional statistical methods."
      ],
      "metadata": {
        "id": "fUQNCJYDnE_I"
      }
    },
    {
      "cell_type": "markdown",
      "source": [
        "##Data Dictionary \n",
        " \n"
      ],
      "metadata": {
        "id": "ywBtwCTCog8p"
      }
    },
    {
      "cell_type": "markdown",
      "source": [
        "### Definitions:\n"
      ],
      "metadata": {
        "id": "Yh1dzBnJuxK1"
      }
    },
    {
      "cell_type": "markdown",
      "source": [
        "# The Data"
      ],
      "metadata": {
        "id": "mWxJbkEAu86Y"
      }
    },
    {
      "cell_type": "markdown",
      "source": [
        "## Initial Data Exploration"
      ],
      "metadata": {
        "id": "ggr4dnVevB2q"
      }
    },
    {
      "cell_type": "code",
      "source": [
        "from google.colab import drive\n",
        "drive.mount('/content/drive')"
      ],
      "metadata": {
        "id": "FXn58GIlvLyG",
        "colab": {
          "base_uri": "https://localhost:8080/"
        },
        "outputId": "c6d00c87-ec88-45d8-8f2d-49e93b09e9e2"
      },
      "execution_count": null,
      "outputs": [
        {
          "output_type": "stream",
          "name": "stdout",
          "text": [
            "Mounted at /content/drive\n"
          ]
        }
      ]
    },
    {
      "cell_type": "markdown",
      "source": [
        "#Mount libs"
      ],
      "metadata": {
        "id": "xviiJx_QrR2K"
      }
    },
    {
      "cell_type": "code",
      "source": [
        "!pip install rasterio geopandas shapely\n",
        "!pip install pandas geopandas pysal shapely\n",
        "!pip install pandas geopandas pysal"
      ],
      "metadata": {
        "colab": {
          "base_uri": "https://localhost:8080/"
        },
        "id": "-Qc7T61jrQdp",
        "outputId": "dda1f11e-f0eb-4131-a4ae-af07f30aa957"
      },
      "execution_count": null,
      "outputs": [
        {
          "output_type": "stream",
          "name": "stdout",
          "text": [
            "Looking in indexes: https://pypi.org/simple, https://us-python.pkg.dev/colab-wheels/public/simple/\n",
            "Collecting rasterio\n",
            "  Downloading rasterio-1.3.6-cp310-cp310-manylinux_2_17_x86_64.manylinux2014_x86_64.whl (20.0 MB)\n",
            "\u001b[2K     \u001b[90m━━━━━━━━━━━━━━━━━━━━━━━━━━━━━━━━━━━━━━━━\u001b[0m \u001b[32m20.0/20.0 MB\u001b[0m \u001b[31m21.5 MB/s\u001b[0m eta \u001b[36m0:00:00\u001b[0m\n",
            "\u001b[?25hCollecting geopandas\n",
            "  Downloading geopandas-0.13.0-py3-none-any.whl (1.1 MB)\n",
            "\u001b[2K     \u001b[90m━━━━━━━━━━━━━━━━━━━━━━━━━━━━━━━━━━━━━━━━\u001b[0m \u001b[32m1.1/1.1 MB\u001b[0m \u001b[31m18.7 MB/s\u001b[0m eta \u001b[36m0:00:00\u001b[0m\n",
            "\u001b[?25hRequirement already satisfied: shapely in /usr/local/lib/python3.10/dist-packages (2.0.1)\n",
            "Collecting affine (from rasterio)\n",
            "  Downloading affine-2.4.0-py3-none-any.whl (15 kB)\n",
            "Requirement already satisfied: attrs in /usr/local/lib/python3.10/dist-packages (from rasterio) (23.1.0)\n",
            "Requirement already satisfied: certifi in /usr/local/lib/python3.10/dist-packages (from rasterio) (2022.12.7)\n",
            "Requirement already satisfied: click>=4.0 in /usr/local/lib/python3.10/dist-packages (from rasterio) (8.1.3)\n",
            "Collecting cligj>=0.5 (from rasterio)\n",
            "  Downloading cligj-0.7.2-py3-none-any.whl (7.1 kB)\n",
            "Requirement already satisfied: numpy>=1.18 in /usr/local/lib/python3.10/dist-packages (from rasterio) (1.22.4)\n",
            "Collecting snuggs>=1.4.1 (from rasterio)\n",
            "  Downloading snuggs-1.4.7-py3-none-any.whl (5.4 kB)\n",
            "Collecting click-plugins (from rasterio)\n",
            "  Downloading click_plugins-1.1.1-py2.py3-none-any.whl (7.5 kB)\n",
            "Requirement already satisfied: setuptools in /usr/local/lib/python3.10/dist-packages (from rasterio) (67.7.2)\n",
            "Collecting fiona>=1.8.19 (from geopandas)\n",
            "  Downloading Fiona-1.9.3-cp310-cp310-manylinux_2_17_x86_64.manylinux2014_x86_64.whl (16.0 MB)\n",
            "\u001b[2K     \u001b[90m━━━━━━━━━━━━━━━━━━━━━━━━━━━━━━━━━━━━━━━━\u001b[0m \u001b[32m16.0/16.0 MB\u001b[0m \u001b[31m47.7 MB/s\u001b[0m eta \u001b[36m0:00:00\u001b[0m\n",
            "\u001b[?25hRequirement already satisfied: packaging in /usr/local/lib/python3.10/dist-packages (from geopandas) (23.1)\n",
            "Requirement already satisfied: pandas>=1.1.0 in /usr/local/lib/python3.10/dist-packages (from geopandas) (1.5.3)\n",
            "Collecting pyproj>=3.0.1 (from geopandas)\n",
            "  Downloading pyproj-3.5.0-cp310-cp310-manylinux_2_17_x86_64.manylinux2014_x86_64.whl (7.7 MB)\n",
            "\u001b[2K     \u001b[90m━━━━━━━━━━━━━━━━━━━━━━━━━━━━━━━━━━━━━━━━\u001b[0m \u001b[32m7.7/7.7 MB\u001b[0m \u001b[31m33.8 MB/s\u001b[0m eta \u001b[36m0:00:00\u001b[0m\n",
            "\u001b[?25hCollecting munch>=2.3.2 (from fiona>=1.8.19->geopandas)\n",
            "  Downloading munch-2.5.0-py2.py3-none-any.whl (10 kB)\n",
            "Requirement already satisfied: python-dateutil>=2.8.1 in /usr/local/lib/python3.10/dist-packages (from pandas>=1.1.0->geopandas) (2.8.2)\n",
            "Requirement already satisfied: pytz>=2020.1 in /usr/local/lib/python3.10/dist-packages (from pandas>=1.1.0->geopandas) (2022.7.1)\n",
            "Requirement already satisfied: pyparsing>=2.1.6 in /usr/local/lib/python3.10/dist-packages (from snuggs>=1.4.1->rasterio) (3.0.9)\n",
            "Requirement already satisfied: six in /usr/local/lib/python3.10/dist-packages (from munch>=2.3.2->fiona>=1.8.19->geopandas) (1.16.0)\n",
            "Installing collected packages: snuggs, pyproj, munch, cligj, click-plugins, affine, rasterio, fiona, geopandas\n",
            "Successfully installed affine-2.4.0 click-plugins-1.1.1 cligj-0.7.2 fiona-1.9.3 geopandas-0.13.0 munch-2.5.0 pyproj-3.5.0 rasterio-1.3.6 snuggs-1.4.7\n",
            "Looking in indexes: https://pypi.org/simple, https://us-python.pkg.dev/colab-wheels/public/simple/\n",
            "Requirement already satisfied: pandas in /usr/local/lib/python3.10/dist-packages (1.5.3)\n",
            "Requirement already satisfied: geopandas in /usr/local/lib/python3.10/dist-packages (0.13.0)\n",
            "Collecting pysal\n",
            "  Downloading pysal-23.1-py3-none-any.whl (17 kB)\n",
            "Requirement already satisfied: shapely in /usr/local/lib/python3.10/dist-packages (2.0.1)\n",
            "Requirement already satisfied: python-dateutil>=2.8.1 in /usr/local/lib/python3.10/dist-packages (from pandas) (2.8.2)\n",
            "Requirement already satisfied: pytz>=2020.1 in /usr/local/lib/python3.10/dist-packages (from pandas) (2022.7.1)\n",
            "Requirement already satisfied: numpy>=1.21.0 in /usr/local/lib/python3.10/dist-packages (from pandas) (1.22.4)\n",
            "Requirement already satisfied: fiona>=1.8.19 in /usr/local/lib/python3.10/dist-packages (from geopandas) (1.9.3)\n",
            "Requirement already satisfied: packaging in /usr/local/lib/python3.10/dist-packages (from geopandas) (23.1)\n",
            "Requirement already satisfied: pyproj>=3.0.1 in /usr/local/lib/python3.10/dist-packages (from geopandas) (3.5.0)\n",
            "Collecting libpysal>=4.7.0 (from pysal)\n",
            "  Downloading libpysal-4.7.0-py3-none-any.whl (2.4 MB)\n",
            "\u001b[2K     \u001b[90m━━━━━━━━━━━━━━━━━━━━━━━━━━━━━━━━━━━━━━━━\u001b[0m \u001b[32m2.4/2.4 MB\u001b[0m \u001b[31m30.5 MB/s\u001b[0m eta \u001b[36m0:00:00\u001b[0m\n",
            "\u001b[?25hCollecting access>=1.1.8 (from pysal)\n",
            "  Downloading access-1.1.9-py3-none-any.whl (21 kB)\n",
            "Collecting esda>=2.4.1 (from pysal)\n",
            "  Downloading esda-2.4.3.tar.gz (116 kB)\n",
            "\u001b[2K     \u001b[90m━━━━━━━━━━━━━━━━━━━━━━━━━━━━━━━━━━━━━━\u001b[0m \u001b[32m116.6/116.6 kB\u001b[0m \u001b[31m11.8 MB/s\u001b[0m eta \u001b[36m0:00:00\u001b[0m\n",
            "\u001b[?25h  Preparing metadata (setup.py) ... \u001b[?25l\u001b[?25hdone\n",
            "Collecting giddy>=2.3.3 (from pysal)\n",
            "  Downloading giddy-2.3.4-py3-none-any.whl (61 kB)\n",
            "\u001b[2K     \u001b[90m━━━━━━━━━━━━━━━━━━━━━━━━━━━━━━━━━━━━━━━━\u001b[0m \u001b[32m61.1/61.1 kB\u001b[0m \u001b[31m7.5 MB/s\u001b[0m eta \u001b[36m0:00:00\u001b[0m\n",
            "\u001b[?25hCollecting inequality>=1.0.0 (from pysal)\n",
            "  Downloading inequality-1.0.0.tar.gz (11 kB)\n",
            "  Preparing metadata (setup.py) ... \u001b[?25l\u001b[?25hdone\n",
            "Collecting pointpats>=2.2.0 (from pysal)\n",
            "  Downloading pointpats-2.3.0-py3-none-any.whl (59 kB)\n",
            "\u001b[2K     \u001b[90m━━━━━━━━━━━━━━━━━━━━━━━━━━━━━━━━━━━━━━━━\u001b[0m \u001b[32m59.2/59.2 kB\u001b[0m \u001b[31m8.0 MB/s\u001b[0m eta \u001b[36m0:00:00\u001b[0m\n",
            "\u001b[?25hCollecting segregation>=2.3.1 (from pysal)\n",
            "  Downloading segregation-2.4.2-py3-none-any.whl (147 kB)\n",
            "\u001b[2K     \u001b[90m━━━━━━━━━━━━━━━━━━━━━━━━━━━━━━━━━━━━━━\u001b[0m \u001b[32m147.5/147.5 kB\u001b[0m \u001b[31m16.2 MB/s\u001b[0m eta \u001b[36m0:00:00\u001b[0m\n",
            "\u001b[?25hCollecting spaghetti>=1.7.2 (from pysal)\n",
            "  Downloading spaghetti-1.7.2-py3-none-any.whl (50 kB)\n",
            "\u001b[2K     \u001b[90m━━━━━━━━━━━━━━━━━━━━━━━━━━━━━━━━━━━━━━━━\u001b[0m \u001b[32m50.3/50.3 kB\u001b[0m \u001b[31m6.4 MB/s\u001b[0m eta \u001b[36m0:00:00\u001b[0m\n",
            "\u001b[?25hCollecting mgwr>=2.1.2 (from pysal)\n",
            "  Downloading mgwr-2.1.2.tar.gz (41 kB)\n",
            "\u001b[2K     \u001b[90m━━━━━━━━━━━━━━━━━━━━━━━━━━━━━━━━━━━━━━━━\u001b[0m \u001b[32m41.8/41.8 kB\u001b[0m \u001b[31m4.8 MB/s\u001b[0m eta \u001b[36m0:00:00\u001b[0m\n",
            "\u001b[?25h  Preparing metadata (setup.py) ... \u001b[?25l\u001b[?25hdone\n",
            "Collecting momepy>=0.5.4 (from pysal)\n",
            "  Downloading momepy-0.6.0-py3-none-any.whl (275 kB)\n",
            "\u001b[2K     \u001b[90m━━━━━━━━━━━━━━━━━━━━━━━━━━━━━━━━━━━━━━\u001b[0m \u001b[32m275.7/275.7 kB\u001b[0m \u001b[31m26.2 MB/s\u001b[0m eta \u001b[36m0:00:00\u001b[0m\n",
            "\u001b[?25hCollecting spglm>=1.0.8 (from pysal)\n",
            "  Downloading spglm-1.0.8.tar.gz (37 kB)\n",
            "  Preparing metadata (setup.py) ... \u001b[?25l\u001b[?25hdone\n",
            "Collecting spint>=1.0.7 (from pysal)\n",
            "  Downloading spint-1.0.7.tar.gz (28 kB)\n",
            "  Preparing metadata (setup.py) ... \u001b[?25l\u001b[?25hdone\n",
            "Collecting spreg>=1.3.0 (from pysal)\n",
            "  Downloading spreg-1.3.2-py3-none-any.whl (220 kB)\n",
            "\u001b[2K     \u001b[90m━━━━━━━━━━━━━━━━━━━━━━━━━━━━━━━━━━━━━━\u001b[0m \u001b[32m220.2/220.2 kB\u001b[0m \u001b[31m24.1 MB/s\u001b[0m eta \u001b[36m0:00:00\u001b[0m\n",
            "\u001b[?25hCollecting spvcm>=0.3.0 (from pysal)\n",
            "  Downloading spvcm-0.3.0.tar.gz (5.7 MB)\n",
            "\u001b[2K     \u001b[90m━━━━━━━━━━━━━━━━━━━━━━━━━━━━━━━━━━━━━━━━\u001b[0m \u001b[32m5.7/5.7 MB\u001b[0m \u001b[31m65.2 MB/s\u001b[0m eta \u001b[36m0:00:00\u001b[0m\n",
            "\u001b[?25h  Preparing metadata (setup.py) ... \u001b[?25l\u001b[?25hdone\n",
            "Collecting tobler>=0.8.2 (from pysal)\n",
            "  Downloading tobler-0.9.0-py3-none-any.whl (22 kB)\n",
            "Collecting mapclassify>=2.5.0 (from pysal)\n",
            "  Downloading mapclassify-2.5.0-py3-none-any.whl (39 kB)\n",
            "Collecting splot>=1.1.5.post1 (from pysal)\n",
            "  Downloading splot-1.1.5.post1-py3-none-any.whl (39 kB)\n",
            "Collecting spopt>=0.5.0 (from pysal)\n",
            "  Downloading spopt-0.5.0-py3-none-any.whl (112 kB)\n",
            "\u001b[2K     \u001b[90m━━━━━━━━━━━━━━━━━━━━━━━━━━━━━━━━━━━━━━\u001b[0m \u001b[32m112.9/112.9 kB\u001b[0m \u001b[31m13.1 MB/s\u001b[0m eta \u001b[36m0:00:00\u001b[0m\n",
            "\u001b[?25hRequirement already satisfied: requests>=2 in /usr/local/lib/python3.10/dist-packages (from access>=1.1.8->pysal) (2.27.1)\n",
            "Requirement already satisfied: scipy>=0.11 in /usr/local/lib/python3.10/dist-packages (from esda>=2.4.1->pysal) (1.10.1)\n",
            "Requirement already satisfied: scikit-learn in /usr/local/lib/python3.10/dist-packages (from esda>=2.4.1->pysal) (1.2.2)\n",
            "Requirement already satisfied: attrs>=19.2.0 in /usr/local/lib/python3.10/dist-packages (from fiona>=1.8.19->geopandas) (23.1.0)\n",
            "Requirement already satisfied: certifi in /usr/local/lib/python3.10/dist-packages (from fiona>=1.8.19->geopandas) (2022.12.7)\n",
            "Requirement already satisfied: click~=8.0 in /usr/local/lib/python3.10/dist-packages (from fiona>=1.8.19->geopandas) (8.1.3)\n",
            "Requirement already satisfied: click-plugins>=1.0 in /usr/local/lib/python3.10/dist-packages (from fiona>=1.8.19->geopandas) (1.1.1)\n",
            "Requirement already satisfied: cligj>=0.5 in /usr/local/lib/python3.10/dist-packages (from fiona>=1.8.19->geopandas) (0.7.2)\n",
            "Requirement already satisfied: munch>=2.3.2 in /usr/local/lib/python3.10/dist-packages (from fiona>=1.8.19->geopandas) (2.5.0)\n",
            "Collecting quantecon>=0.4.7 (from giddy>=2.3.3->pysal)\n",
            "  Downloading quantecon-0.7.0-py3-none-any.whl (214 kB)\n",
            "\u001b[2K     \u001b[90m━━━━━━━━━━━━━━━━━━━━━━━━━━━━━━━━━━━━━━\u001b[0m \u001b[32m214.8/214.8 kB\u001b[0m \u001b[31m16.8 MB/s\u001b[0m eta \u001b[36m0:00:00\u001b[0m\n",
            "\u001b[?25hRequirement already satisfied: platformdirs in /usr/local/lib/python3.10/dist-packages (from libpysal>=4.7.0->pysal) (3.3.0)\n",
            "Requirement already satisfied: beautifulsoup4 in /usr/local/lib/python3.10/dist-packages (from libpysal>=4.7.0->pysal) (4.11.2)\n",
            "Requirement already satisfied: jinja2 in /usr/local/lib/python3.10/dist-packages (from libpysal>=4.7.0->pysal) (3.1.2)\n",
            "Requirement already satisfied: networkx in /usr/local/lib/python3.10/dist-packages (from mapclassify>=2.5.0->pysal) (3.1)\n",
            "Requirement already satisfied: tqdm>=4.27.0 in /usr/local/lib/python3.10/dist-packages (from momepy>=0.5.4->pysal) (4.65.0)\n",
            "Requirement already satisfied: matplotlib in /usr/local/lib/python3.10/dist-packages (from pointpats>=2.2.0->pysal) (3.7.1)\n",
            "Requirement already satisfied: six>=1.5 in /usr/local/lib/python3.10/dist-packages (from python-dateutil>=2.8.1->pandas) (1.16.0)\n",
            "Collecting deprecation (from segregation>=2.3.1->pysal)\n",
            "  Downloading deprecation-2.1.0-py2.py3-none-any.whl (11 kB)\n",
            "Requirement already satisfied: joblib in /usr/local/lib/python3.10/dist-packages (from segregation>=2.3.1->pysal) (1.2.0)\n",
            "Requirement already satisfied: seaborn in /usr/local/lib/python3.10/dist-packages (from segregation>=2.3.1->pysal) (0.12.2)\n",
            "Requirement already satisfied: numba in /usr/local/lib/python3.10/dist-packages (from segregation>=2.3.1->pysal) (0.56.4)\n",
            "Collecting rtree (from spaghetti>=1.7.2->pysal)\n",
            "  Downloading Rtree-1.0.1-cp310-cp310-manylinux_2_17_x86_64.manylinux2014_x86_64.whl (1.0 MB)\n",
            "\u001b[2K     \u001b[90m━━━━━━━━━━━━━━━━━━━━━━━━━━━━━━━━━━━━━━━━\u001b[0m \u001b[32m1.0/1.0 MB\u001b[0m \u001b[31m44.1 MB/s\u001b[0m eta \u001b[36m0:00:00\u001b[0m\n",
            "\u001b[?25hCollecting pulp (from spopt>=0.5.0->pysal)\n",
            "  Downloading PuLP-2.7.0-py3-none-any.whl (14.3 MB)\n",
            "\u001b[2K     \u001b[90m━━━━━━━━━━━━━━━━━━━━━━━━━━━━━━━━━━━━━━━━\u001b[0m \u001b[32m14.3/14.3 MB\u001b[0m \u001b[31m47.4 MB/s\u001b[0m eta \u001b[36m0:00:00\u001b[0m\n",
            "\u001b[?25hRequirement already satisfied: rasterio in /usr/local/lib/python3.10/dist-packages (from tobler>=0.8.2->pysal) (1.3.6)\n",
            "Requirement already satisfied: statsmodels in /usr/local/lib/python3.10/dist-packages (from tobler>=0.8.2->pysal) (0.13.5)\n",
            "Collecting rasterstats (from tobler>=0.8.2->pysal)\n",
            "  Downloading rasterstats-0.18.0-py3-none-any.whl (17 kB)\n",
            "Collecting pygeos (from tobler>=0.8.2->pysal)\n",
            "  Downloading pygeos-0.14-cp310-cp310-manylinux_2_17_x86_64.manylinux2014_x86_64.whl (2.2 MB)\n",
            "\u001b[2K     \u001b[90m━━━━━━━━━━━━━━━━━━━━━━━━━━━━━━━━━━━━━━━━\u001b[0m \u001b[32m2.2/2.2 MB\u001b[0m \u001b[31m62.1 MB/s\u001b[0m eta \u001b[36m0:00:00\u001b[0m\n",
            "\u001b[?25hRequirement already satisfied: sympy in /usr/local/lib/python3.10/dist-packages (from quantecon>=0.4.7->giddy>=2.3.3->pysal) (1.11.1)\n",
            "Requirement already satisfied: llvmlite<0.40,>=0.39.0dev0 in /usr/local/lib/python3.10/dist-packages (from numba->segregation>=2.3.1->pysal) (0.39.1)\n",
            "Requirement already satisfied: setuptools in /usr/local/lib/python3.10/dist-packages (from numba->segregation>=2.3.1->pysal) (67.7.2)\n",
            "Requirement already satisfied: urllib3<1.27,>=1.21.1 in /usr/local/lib/python3.10/dist-packages (from requests>=2->access>=1.1.8->pysal) (1.26.15)\n",
            "Requirement already satisfied: charset-normalizer~=2.0.0 in /usr/local/lib/python3.10/dist-packages (from requests>=2->access>=1.1.8->pysal) (2.0.12)\n",
            "Requirement already satisfied: idna<4,>=2.5 in /usr/local/lib/python3.10/dist-packages (from requests>=2->access>=1.1.8->pysal) (3.4)\n",
            "Requirement already satisfied: threadpoolctl>=2.0.0 in /usr/local/lib/python3.10/dist-packages (from scikit-learn->esda>=2.4.1->pysal) (3.1.0)\n",
            "Requirement already satisfied: soupsieve>1.2 in /usr/local/lib/python3.10/dist-packages (from beautifulsoup4->libpysal>=4.7.0->pysal) (2.4.1)\n",
            "Requirement already satisfied: MarkupSafe>=2.0 in /usr/local/lib/python3.10/dist-packages (from jinja2->libpysal>=4.7.0->pysal) (2.1.2)\n",
            "Requirement already satisfied: contourpy>=1.0.1 in /usr/local/lib/python3.10/dist-packages (from matplotlib->pointpats>=2.2.0->pysal) (1.0.7)\n",
            "Requirement already satisfied: cycler>=0.10 in /usr/local/lib/python3.10/dist-packages (from matplotlib->pointpats>=2.2.0->pysal) (0.11.0)\n",
            "Requirement already satisfied: fonttools>=4.22.0 in /usr/local/lib/python3.10/dist-packages (from matplotlib->pointpats>=2.2.0->pysal) (4.39.3)\n",
            "Requirement already satisfied: kiwisolver>=1.0.1 in /usr/local/lib/python3.10/dist-packages (from matplotlib->pointpats>=2.2.0->pysal) (1.4.4)\n",
            "Requirement already satisfied: pillow>=6.2.0 in /usr/local/lib/python3.10/dist-packages (from matplotlib->pointpats>=2.2.0->pysal) (8.4.0)\n",
            "Requirement already satisfied: pyparsing>=2.3.1 in /usr/local/lib/python3.10/dist-packages (from matplotlib->pointpats>=2.2.0->pysal) (3.0.9)\n",
            "Requirement already satisfied: affine in /usr/local/lib/python3.10/dist-packages (from rasterio->tobler>=0.8.2->pysal) (2.4.0)\n",
            "Requirement already satisfied: snuggs>=1.4.1 in /usr/local/lib/python3.10/dist-packages (from rasterio->tobler>=0.8.2->pysal) (1.4.7)\n",
            "Collecting fiona>=1.8.19 (from geopandas)\n",
            "  Downloading Fiona-1.8.22-cp310-cp310-manylinux_2_17_x86_64.manylinux2014_x86_64.whl (16.6 MB)\n",
            "\u001b[2K     \u001b[90m━━━━━━━━━━━━━━━━━━━━━━━━━━━━━━━━━━━━━━━━\u001b[0m \u001b[32m16.6/16.6 MB\u001b[0m \u001b[31m19.3 MB/s\u001b[0m eta \u001b[36m0:00:00\u001b[0m\n",
            "\u001b[?25hCollecting simplejson (from rasterstats->tobler>=0.8.2->pysal)\n",
            "  Downloading simplejson-3.19.1-cp310-cp310-manylinux_2_5_x86_64.manylinux1_x86_64.manylinux_2_17_x86_64.manylinux2014_x86_64.whl (137 kB)\n",
            "\u001b[2K     \u001b[90m━━━━━━━━━━━━━━━━━━━━━━━━━━━━━━━━━━━━━━\u001b[0m \u001b[32m137.9/137.9 kB\u001b[0m \u001b[31m17.2 MB/s\u001b[0m eta \u001b[36m0:00:00\u001b[0m\n",
            "\u001b[?25hRequirement already satisfied: patsy>=0.5.2 in /usr/local/lib/python3.10/dist-packages (from statsmodels->tobler>=0.8.2->pysal) (0.5.3)\n",
            "Requirement already satisfied: mpmath>=0.19 in /usr/local/lib/python3.10/dist-packages (from sympy->quantecon>=0.4.7->giddy>=2.3.3->pysal) (1.3.0)\n",
            "Building wheels for collected packages: esda, inequality, mgwr, spglm, spint, spvcm\n",
            "  Building wheel for esda (setup.py) ... \u001b[?25l\u001b[?25hdone\n",
            "  Created wheel for esda: filename=esda-2.4.3-py3-none-any.whl size=122765 sha256=c5b62ce2106dd7ac1212b3e4127be158646143e6edcc9f4c79f27b47f1e6a4a2\n",
            "  Stored in directory: /root/.cache/pip/wheels/ed/88/61/8705bb427b9aeb4ded8f07eb8ea3e8cada26881368c75619cb\n",
            "  Building wheel for inequality (setup.py) ... \u001b[?25l\u001b[?25hdone\n",
            "  Created wheel for inequality: filename=inequality-1.0.0-py3-none-any.whl size=11781 sha256=b49871b47b6aa1018a6743a80e9718909c3137ce00013c29c52e534fae36b903\n",
            "  Stored in directory: /root/.cache/pip/wheels/52/f7/af/eb988b28568f650a2329b2b3e954019a1c3ceb084dae385b51\n",
            "  Building wheel for mgwr (setup.py) ... \u001b[?25l\u001b[?25hdone\n",
            "  Created wheel for mgwr: filename=mgwr-2.1.2-py3-none-any.whl size=46365 sha256=2bdb647082e382c6be8090fd5c93e510fab492260ddcdf01c8313aeb1a1721fc\n",
            "  Stored in directory: /root/.cache/pip/wheels/4d/43/6e/bd2d0e1ccee77089e0b266ebc4948d9a90ef363e0be23663aa\n",
            "  Building wheel for spglm (setup.py) ... \u001b[?25l\u001b[?25hdone\n",
            "  Created wheel for spglm: filename=spglm-1.0.8-py3-none-any.whl size=38785 sha256=a643a6b2a05b5ae990c4fce6723be53b313ca6f2dee8b33885d0702141965ab8\n",
            "  Stored in directory: /root/.cache/pip/wheels/a2/a7/67/07d6d6809173d768c16235f813520d6a4053984a160aa933fa\n",
            "  Building wheel for spint (setup.py) ... \u001b[?25l\u001b[?25hdone\n",
            "  Created wheel for spint: filename=spint-1.0.7-py3-none-any.whl size=31365 sha256=7c6377eebd2350808cb6264ab3284dac9c5920635a3ca52759714de17853c556\n",
            "  Stored in directory: /root/.cache/pip/wheels/f6/1d/ab/81b0c9d17a778a97ec078147cb11901afdab420c4894dcfbc5\n",
            "  Building wheel for spvcm (setup.py) ... \u001b[?25l\u001b[?25hdone\n",
            "  Created wheel for spvcm: filename=spvcm-0.3.0-py3-none-any.whl size=5777186 sha256=00a0a9f6e37341d73973fa5d7938039aef109722f374090d763a5901c1785c7e\n",
            "  Stored in directory: /root/.cache/pip/wheels/1c/58/6f/debcb62c0a142a6615a65f23217209b543b478d309edfa4e2b\n",
            "Successfully built esda inequality mgwr spglm spint spvcm\n",
            "Installing collected packages: pulp, simplejson, rtree, pygeos, deprecation, quantecon, inequality, fiona, rasterstats, mapclassify, libpysal, tobler, spreg, segregation, pointpats, momepy, esda, access, spvcm, spglm, spaghetti, giddy, spopt, splot, spint, mgwr, pysal\n",
            "  Attempting uninstall: fiona\n",
            "    Found existing installation: Fiona 1.9.3\n",
            "    Uninstalling Fiona-1.9.3:\n",
            "      Successfully uninstalled Fiona-1.9.3\n",
            "Successfully installed access-1.1.9 deprecation-2.1.0 esda-2.4.3 fiona-1.8.22 giddy-2.3.4 inequality-1.0.0 libpysal-4.7.0 mapclassify-2.5.0 mgwr-2.1.2 momepy-0.6.0 pointpats-2.3.0 pulp-2.7.0 pygeos-0.14 pysal-23.1 quantecon-0.7.0 rasterstats-0.18.0 rtree-1.0.1 segregation-2.4.2 simplejson-3.19.1 spaghetti-1.7.2 spglm-1.0.8 spint-1.0.7 splot-1.1.5.post1 spopt-0.5.0 spreg-1.3.2 spvcm-0.3.0 tobler-0.9.0\n",
            "Looking in indexes: https://pypi.org/simple, https://us-python.pkg.dev/colab-wheels/public/simple/\n",
            "Requirement already satisfied: pandas in /usr/local/lib/python3.10/dist-packages (1.5.3)\n",
            "Requirement already satisfied: geopandas in /usr/local/lib/python3.10/dist-packages (0.13.0)\n",
            "Requirement already satisfied: pysal in /usr/local/lib/python3.10/dist-packages (23.1)\n",
            "Requirement already satisfied: python-dateutil>=2.8.1 in /usr/local/lib/python3.10/dist-packages (from pandas) (2.8.2)\n",
            "Requirement already satisfied: pytz>=2020.1 in /usr/local/lib/python3.10/dist-packages (from pandas) (2022.7.1)\n",
            "Requirement already satisfied: numpy>=1.21.0 in /usr/local/lib/python3.10/dist-packages (from pandas) (1.22.4)\n",
            "Requirement already satisfied: fiona>=1.8.19 in /usr/local/lib/python3.10/dist-packages (from geopandas) (1.8.22)\n",
            "Requirement already satisfied: packaging in /usr/local/lib/python3.10/dist-packages (from geopandas) (23.1)\n",
            "Requirement already satisfied: pyproj>=3.0.1 in /usr/local/lib/python3.10/dist-packages (from geopandas) (3.5.0)\n",
            "Requirement already satisfied: shapely>=1.7.1 in /usr/local/lib/python3.10/dist-packages (from geopandas) (2.0.1)\n",
            "Requirement already satisfied: libpysal>=4.7.0 in /usr/local/lib/python3.10/dist-packages (from pysal) (4.7.0)\n",
            "Requirement already satisfied: access>=1.1.8 in /usr/local/lib/python3.10/dist-packages (from pysal) (1.1.9)\n",
            "Requirement already satisfied: esda>=2.4.1 in /usr/local/lib/python3.10/dist-packages (from pysal) (2.4.3)\n",
            "Requirement already satisfied: giddy>=2.3.3 in /usr/local/lib/python3.10/dist-packages (from pysal) (2.3.4)\n",
            "Requirement already satisfied: inequality>=1.0.0 in /usr/local/lib/python3.10/dist-packages (from pysal) (1.0.0)\n",
            "Requirement already satisfied: pointpats>=2.2.0 in /usr/local/lib/python3.10/dist-packages (from pysal) (2.3.0)\n",
            "Requirement already satisfied: segregation>=2.3.1 in /usr/local/lib/python3.10/dist-packages (from pysal) (2.4.2)\n",
            "Requirement already satisfied: spaghetti>=1.7.2 in /usr/local/lib/python3.10/dist-packages (from pysal) (1.7.2)\n",
            "Requirement already satisfied: mgwr>=2.1.2 in /usr/local/lib/python3.10/dist-packages (from pysal) (2.1.2)\n",
            "Requirement already satisfied: momepy>=0.5.4 in /usr/local/lib/python3.10/dist-packages (from pysal) (0.6.0)\n",
            "Requirement already satisfied: spglm>=1.0.8 in /usr/local/lib/python3.10/dist-packages (from pysal) (1.0.8)\n",
            "Requirement already satisfied: spint>=1.0.7 in /usr/local/lib/python3.10/dist-packages (from pysal) (1.0.7)\n",
            "Requirement already satisfied: spreg>=1.3.0 in /usr/local/lib/python3.10/dist-packages (from pysal) (1.3.2)\n",
            "Requirement already satisfied: spvcm>=0.3.0 in /usr/local/lib/python3.10/dist-packages (from pysal) (0.3.0)\n",
            "Requirement already satisfied: tobler>=0.8.2 in /usr/local/lib/python3.10/dist-packages (from pysal) (0.9.0)\n",
            "Requirement already satisfied: mapclassify>=2.5.0 in /usr/local/lib/python3.10/dist-packages (from pysal) (2.5.0)\n",
            "Requirement already satisfied: splot>=1.1.5.post1 in /usr/local/lib/python3.10/dist-packages (from pysal) (1.1.5.post1)\n",
            "Requirement already satisfied: spopt>=0.5.0 in /usr/local/lib/python3.10/dist-packages (from pysal) (0.5.0)\n",
            "Requirement already satisfied: requests>=2 in /usr/local/lib/python3.10/dist-packages (from access>=1.1.8->pysal) (2.27.1)\n",
            "Requirement already satisfied: scipy>=0.11 in /usr/local/lib/python3.10/dist-packages (from esda>=2.4.1->pysal) (1.10.1)\n",
            "Requirement already satisfied: scikit-learn in /usr/local/lib/python3.10/dist-packages (from esda>=2.4.1->pysal) (1.2.2)\n",
            "Requirement already satisfied: attrs>=17 in /usr/local/lib/python3.10/dist-packages (from fiona>=1.8.19->geopandas) (23.1.0)\n",
            "Requirement already satisfied: certifi in /usr/local/lib/python3.10/dist-packages (from fiona>=1.8.19->geopandas) (2022.12.7)\n",
            "Requirement already satisfied: click>=4.0 in /usr/local/lib/python3.10/dist-packages (from fiona>=1.8.19->geopandas) (8.1.3)\n",
            "Requirement already satisfied: cligj>=0.5 in /usr/local/lib/python3.10/dist-packages (from fiona>=1.8.19->geopandas) (0.7.2)\n",
            "Requirement already satisfied: click-plugins>=1.0 in /usr/local/lib/python3.10/dist-packages (from fiona>=1.8.19->geopandas) (1.1.1)\n",
            "Requirement already satisfied: six>=1.7 in /usr/local/lib/python3.10/dist-packages (from fiona>=1.8.19->geopandas) (1.16.0)\n",
            "Requirement already satisfied: munch in /usr/local/lib/python3.10/dist-packages (from fiona>=1.8.19->geopandas) (2.5.0)\n",
            "Requirement already satisfied: setuptools in /usr/local/lib/python3.10/dist-packages (from fiona>=1.8.19->geopandas) (67.7.2)\n",
            "Requirement already satisfied: quantecon>=0.4.7 in /usr/local/lib/python3.10/dist-packages (from giddy>=2.3.3->pysal) (0.7.0)\n",
            "Requirement already satisfied: platformdirs in /usr/local/lib/python3.10/dist-packages (from libpysal>=4.7.0->pysal) (3.3.0)\n",
            "Requirement already satisfied: beautifulsoup4 in /usr/local/lib/python3.10/dist-packages (from libpysal>=4.7.0->pysal) (4.11.2)\n",
            "Requirement already satisfied: jinja2 in /usr/local/lib/python3.10/dist-packages (from libpysal>=4.7.0->pysal) (3.1.2)\n",
            "Requirement already satisfied: networkx in /usr/local/lib/python3.10/dist-packages (from mapclassify>=2.5.0->pysal) (3.1)\n",
            "Requirement already satisfied: tqdm>=4.27.0 in /usr/local/lib/python3.10/dist-packages (from momepy>=0.5.4->pysal) (4.65.0)\n",
            "Requirement already satisfied: matplotlib in /usr/local/lib/python3.10/dist-packages (from pointpats>=2.2.0->pysal) (3.7.1)\n",
            "Requirement already satisfied: deprecation in /usr/local/lib/python3.10/dist-packages (from segregation>=2.3.1->pysal) (2.1.0)\n",
            "Requirement already satisfied: joblib in /usr/local/lib/python3.10/dist-packages (from segregation>=2.3.1->pysal) (1.2.0)\n",
            "Requirement already satisfied: seaborn in /usr/local/lib/python3.10/dist-packages (from segregation>=2.3.1->pysal) (0.12.2)\n",
            "Requirement already satisfied: numba in /usr/local/lib/python3.10/dist-packages (from segregation>=2.3.1->pysal) (0.56.4)\n",
            "Requirement already satisfied: rtree in /usr/local/lib/python3.10/dist-packages (from spaghetti>=1.7.2->pysal) (1.0.1)\n",
            "Requirement already satisfied: pulp in /usr/local/lib/python3.10/dist-packages (from spopt>=0.5.0->pysal) (2.7.0)\n",
            "Requirement already satisfied: rasterio in /usr/local/lib/python3.10/dist-packages (from tobler>=0.8.2->pysal) (1.3.6)\n",
            "Requirement already satisfied: statsmodels in /usr/local/lib/python3.10/dist-packages (from tobler>=0.8.2->pysal) (0.13.5)\n",
            "Requirement already satisfied: rasterstats in /usr/local/lib/python3.10/dist-packages (from tobler>=0.8.2->pysal) (0.18.0)\n",
            "Requirement already satisfied: pygeos in /usr/local/lib/python3.10/dist-packages (from tobler>=0.8.2->pysal) (0.14)\n",
            "Requirement already satisfied: sympy in /usr/local/lib/python3.10/dist-packages (from quantecon>=0.4.7->giddy>=2.3.3->pysal) (1.11.1)\n",
            "Requirement already satisfied: llvmlite<0.40,>=0.39.0dev0 in /usr/local/lib/python3.10/dist-packages (from numba->segregation>=2.3.1->pysal) (0.39.1)\n",
            "Requirement already satisfied: urllib3<1.27,>=1.21.1 in /usr/local/lib/python3.10/dist-packages (from requests>=2->access>=1.1.8->pysal) (1.26.15)\n",
            "Requirement already satisfied: charset-normalizer~=2.0.0 in /usr/local/lib/python3.10/dist-packages (from requests>=2->access>=1.1.8->pysal) (2.0.12)\n",
            "Requirement already satisfied: idna<4,>=2.5 in /usr/local/lib/python3.10/dist-packages (from requests>=2->access>=1.1.8->pysal) (3.4)\n",
            "Requirement already satisfied: threadpoolctl>=2.0.0 in /usr/local/lib/python3.10/dist-packages (from scikit-learn->esda>=2.4.1->pysal) (3.1.0)\n",
            "Requirement already satisfied: soupsieve>1.2 in /usr/local/lib/python3.10/dist-packages (from beautifulsoup4->libpysal>=4.7.0->pysal) (2.4.1)\n",
            "Requirement already satisfied: MarkupSafe>=2.0 in /usr/local/lib/python3.10/dist-packages (from jinja2->libpysal>=4.7.0->pysal) (2.1.2)\n",
            "Requirement already satisfied: contourpy>=1.0.1 in /usr/local/lib/python3.10/dist-packages (from matplotlib->pointpats>=2.2.0->pysal) (1.0.7)\n",
            "Requirement already satisfied: cycler>=0.10 in /usr/local/lib/python3.10/dist-packages (from matplotlib->pointpats>=2.2.0->pysal) (0.11.0)\n",
            "Requirement already satisfied: fonttools>=4.22.0 in /usr/local/lib/python3.10/dist-packages (from matplotlib->pointpats>=2.2.0->pysal) (4.39.3)\n",
            "Requirement already satisfied: kiwisolver>=1.0.1 in /usr/local/lib/python3.10/dist-packages (from matplotlib->pointpats>=2.2.0->pysal) (1.4.4)\n",
            "Requirement already satisfied: pillow>=6.2.0 in /usr/local/lib/python3.10/dist-packages (from matplotlib->pointpats>=2.2.0->pysal) (8.4.0)\n",
            "Requirement already satisfied: pyparsing>=2.3.1 in /usr/local/lib/python3.10/dist-packages (from matplotlib->pointpats>=2.2.0->pysal) (3.0.9)\n",
            "Requirement already satisfied: affine in /usr/local/lib/python3.10/dist-packages (from rasterio->tobler>=0.8.2->pysal) (2.4.0)\n",
            "Requirement already satisfied: snuggs>=1.4.1 in /usr/local/lib/python3.10/dist-packages (from rasterio->tobler>=0.8.2->pysal) (1.4.7)\n",
            "Requirement already satisfied: simplejson in /usr/local/lib/python3.10/dist-packages (from rasterstats->tobler>=0.8.2->pysal) (3.19.1)\n",
            "Requirement already satisfied: patsy>=0.5.2 in /usr/local/lib/python3.10/dist-packages (from statsmodels->tobler>=0.8.2->pysal) (0.5.3)\n",
            "Requirement already satisfied: mpmath>=0.19 in /usr/local/lib/python3.10/dist-packages (from sympy->quantecon>=0.4.7->giddy>=2.3.3->pysal) (1.3.0)\n"
          ]
        }
      ]
    },
    {
      "cell_type": "markdown",
      "source": [
        "#Imports"
      ],
      "metadata": {
        "id": "s6jMcIbW3P5o"
      }
    },
    {
      "cell_type": "code",
      "source": [
        "import pickle\n",
        "import rasterio\n",
        "import geopandas as gpd\n",
        "import sklearn\n",
        "import numpy as np\n",
        "import pandas as pd\n",
        "import seaborn as sns\n",
        "import matplotlib.pyplot as plt\n",
        "import plotly.express as px\n",
        "import scipy.stats as stats\n",
        "import statsmodels.api as sm\n",
        "import plotly.graph_objects as go\n",
        "import tensorflow as tf\n",
        "import tensorflow.keras as keras\n",
        "import pickle\n",
        "import os\n",
        "import re\n",
        "\n",
        "from rasterio.mask import mask\n",
        "\n",
        "\n",
        "import pysal as ps\n",
        "import pysal.lib as lib\n",
        "\n",
        "from pysal.explore import esda\n",
        "import libpysal\n",
        "\n",
        "from shapely import wkt\n",
        "from shapely.geometry import Point\n",
        "\n",
        "\n",
        "from rasterio.windows import Window\n",
        "from rasterio.transform import xy\n",
        "from shapely.geometry import Point, MultiPolygon, Polygon\n",
        "\n",
        "\n",
        "from tensorflow.keras.preprocessing.image import load_img, img_to_array\n",
        "from keras.preprocessing import image\n",
        "from tensorflow.keras.utils import to_categorical\n",
        "\n",
        "from keras.models import Sequential\n",
        "from keras.layers import Dense, Flatten, Conv2D, MaxPooling2D\n",
        "from keras.utils import plot_model, load_img, img_to_array\n",
        "from sklearn.preprocessing import StandardScaler\n",
        "from datetime import datetime\n",
        "from sklearn.metrics import confusion_matrix\n",
        "from sklearn.model_selection import train_test_split\n",
        "from sklearn.linear_model import Lasso\n",
        "from sklearn import datasets, metrics, model_selection\n",
        "from sklearn import model_selection"
      ],
      "metadata": {
        "id": "8ZyLKpyXgGaO",
        "colab": {
          "base_uri": "https://localhost:8080/"
        },
        "outputId": "38a871bf-4f9b-4d06-e423-9371c81f2fe1"
      },
      "execution_count": null,
      "outputs": [
        {
          "output_type": "stream",
          "name": "stderr",
          "text": [
            "/usr/local/lib/python3.10/dist-packages/geopandas/_compat.py:124: UserWarning: The Shapely GEOS version (3.11.1-CAPI-1.17.1) is incompatible with the GEOS version PyGEOS was compiled with (3.10.4-CAPI-1.16.2). Conversions between both will be slow.\n",
            "  warnings.warn(\n",
            "<ipython-input-3-2b4188f55c90>:3: DeprecationWarning: Shapely 2.0 is installed, but because PyGEOS is also installed, GeoPandas still uses PyGEOS by default. However, starting with version 0.14, the default will switch to Shapely. To force to use Shapely 2.0 now, you can either uninstall PyGEOS or set the environment variable USE_PYGEOS=0. You can do this before starting the Python process, or in your code before importing geopandas:\n",
            "\n",
            "import os\n",
            "os.environ['USE_PYGEOS'] = '0'\n",
            "import geopandas\n",
            "\n",
            "In the next release, GeoPandas will switch to using Shapely by default, even if PyGEOS is installed. If you only have PyGEOS installed to get speed-ups, this switch should be smooth. However, if you are using PyGEOS directly (calling PyGEOS functions on geometries from GeoPandas), this will then stop working and you are encouraged to migrate from PyGEOS to Shapely 2.0 (https://shapely.readthedocs.io/en/latest/migration_pygeos.html).\n",
            "  import geopandas as gpd\n",
            "/usr/local/lib/python3.10/dist-packages/spaghetti/network.py:39: FutureWarning: The next major release of pysal/spaghetti (2.0.0) will drop support for all ``libpysal.cg`` geometries. This change is a first step in refactoring ``spaghetti`` that is expected to result in dramatically reduced runtimes for network instantiation and operations. Users currently requiring network and point pattern input as ``libpysal.cg`` geometries should prepare for this simply by converting to ``shapely`` geometries.\n",
            "  warnings.warn(f\"{dep_msg}\", FutureWarning)\n"
          ]
        }
      ]
    },
    {
      "cell_type": "code",
      "source": [
        "pd.set_option('display.max_columns',None)\n",
        "pd.set_option('display.max_rows', None)\n",
        "pd.set_option('display.expand_frame_repr', False)"
      ],
      "metadata": {
        "id": "xn1K2Tax1q8Q"
      },
      "execution_count": null,
      "outputs": []
    },
    {
      "cell_type": "markdown",
      "source": [
        "#Check GPU"
      ],
      "metadata": {
        "id": "tuyc3uWanchw"
      }
    },
    {
      "cell_type": "code",
      "source": [
        "print(\"Num GPUs Available: \", len(tf.config.list_physical_devices('GPU')))"
      ],
      "metadata": {
        "colab": {
          "base_uri": "https://localhost:8080/"
        },
        "id": "cS31DiN-nfaL",
        "outputId": "79dd190d-bc0e-4abc-a6e1-517e03499028"
      },
      "execution_count": null,
      "outputs": [
        {
          "output_type": "stream",
          "name": "stdout",
          "text": [
            "Num GPUs Available:  0\n"
          ]
        }
      ]
    },
    {
      "cell_type": "markdown",
      "source": [
        "#Imaging Data\n",
        "\n",
        "Preparing the image for analysis\n",
        "- Import 5 bands\n",
        "- Clip images to research area\n",
        "- reproject the coordinates: The ESPG area reprojects the the coordinate system to metrics (EPSG:32616 - WGS 84 / UTM zone 16N, Accurate to 2meters)\n",
        "- Merge while selecting band seperation\n",
        "\n",
        "Plot points\n",
        "- Import coordinates (lat,long)\n",
        "- Reproject points: EPSG:32616 - WGS 84 / UTM zone 16N\n",
        "- Create a buffer around each point 50x50 meters wide\n",
        "- Create a .geojson file of points\n",
        "\n",
        "Export to folder:\n",
        "- Export mergered image as .tiff\n",
        "- Export geojson of points\n"
      ],
      "metadata": {
        "id": "1khLR9KCb3Le"
      }
    },
    {
      "cell_type": "markdown",
      "source": [
        "#Pickle data"
      ],
      "metadata": {
        "id": "fr3S_JelcHV9"
      }
    },
    {
      "cell_type": "code",
      "source": [
        "# Load the DataFrame\n",
        "with open('/content/drive/MyDrive/Data_Science_Bootcamp/Projects/Capstone_Jaguar/Jaguar_observed_df.pkl', 'rb') as f:\n",
        "    observed_df = pickle.load(f)\n"
      ],
      "metadata": {
        "id": "aiU7vJoFdJPt"
      },
      "execution_count": null,
      "outputs": []
    },
    {
      "cell_type": "code",
      "source": [
        "# Load the DataFrame from the .pkl file\n",
        "with open('/content/drive/MyDrive/Data_Science_Bootcamp/Projects/Capstone_Jaguar/jaguar_false_observations_db.pkl', 'rb') as f:\n",
        "    unseen_df = pickle.load(f)\n"
      ],
      "metadata": {
        "id": "LNw2bnE63Bb3"
      },
      "execution_count": null,
      "outputs": []
    },
    {
      "cell_type": "markdown",
      "source": [
        "#Merge and Clean DF"
      ],
      "metadata": {
        "id": "ay7LRw2M3t6P"
      }
    },
    {
      "cell_type": "code",
      "source": [
        "observed_df.info()"
      ],
      "metadata": {
        "colab": {
          "base_uri": "https://localhost:8080/"
        },
        "id": "-GUTGhq14FVy",
        "outputId": "9ed71df7-8be9-47cc-e132-3d0b660a2920"
      },
      "execution_count": null,
      "outputs": [
        {
          "output_type": "stream",
          "name": "stdout",
          "text": [
            "<class 'pandas.core.frame.DataFrame'>\n",
            "RangeIndex: 1773 entries, 0 to 1772\n",
            "Data columns (total 13 columns):\n",
            " #   Column               Non-Null Count  Dtype   \n",
            "---  ------               --------------  -----   \n",
            " 0   chip_data            1773 non-null   object  \n",
            " 1   ndvi_value           1773 non-null   float64 \n",
            " 2   wkt_geom             1773 non-null   object  \n",
            " 3   date                 1773 non-null   object  \n",
            " 4   x                    1773 non-null   float64 \n",
            " 5   y                    1773 non-null   float64 \n",
            " 6   geometry             1773 non-null   geometry\n",
            " 7   timestamp            1773 non-null   float64 \n",
            " 8   day                  1773 non-null   int64   \n",
            " 9   week                 1773 non-null   UInt32  \n",
            " 10  dist_between_points  1773 non-null   float64 \n",
            " 11  topo_DEM             1773 non-null   float64 \n",
            " 12  observed             1773 non-null   int64   \n",
            "dtypes: UInt32(1), float64(6), geometry(1), int64(2), object(3)\n",
            "memory usage: 175.0+ KB\n"
          ]
        }
      ]
    },
    {
      "cell_type": "code",
      "source": [
        "observed_df.shape"
      ],
      "metadata": {
        "colab": {
          "base_uri": "https://localhost:8080/"
        },
        "id": "s2drSuj049ie",
        "outputId": "776a0c96-3785-41f4-ba85-6251be27b424"
      },
      "execution_count": null,
      "outputs": [
        {
          "output_type": "execute_result",
          "data": {
            "text/plain": [
              "(1773, 13)"
            ]
          },
          "metadata": {},
          "execution_count": 45
        }
      ]
    },
    {
      "cell_type": "code",
      "source": [
        "unseen_df.info()"
      ],
      "metadata": {
        "id": "13EIO7jMLsEg",
        "colab": {
          "base_uri": "https://localhost:8080/"
        },
        "outputId": "d55d9987-467c-418b-c3aa-dab3d920e966"
      },
      "execution_count": null,
      "outputs": [
        {
          "output_type": "stream",
          "name": "stdout",
          "text": [
            "<class 'pandas.core.frame.DataFrame'>\n",
            "RangeIndex: 1700 entries, 0 to 1699\n",
            "Data columns (total 14 columns):\n",
            " #   Column               Non-Null Count  Dtype         \n",
            "---  ------               --------------  -----         \n",
            " 0   chip_data            1700 non-null   object        \n",
            " 1   ndvi_value           1700 non-null   float64       \n",
            " 2   topo_DEM             1700 non-null   float64       \n",
            " 3   wkt_geom             1700 non-null   object        \n",
            " 4   date                 1700 non-null   datetime64[ns]\n",
            " 5   x                    1700 non-null   float64       \n",
            " 6   y                    1700 non-null   float64       \n",
            " 7   geometry             1700 non-null   geometry      \n",
            " 8   timestamp            1700 non-null   float64       \n",
            " 9   day                  1700 non-null   int64         \n",
            " 10  week                 1700 non-null   UInt32        \n",
            " 11  dist_between_points  1700 non-null   float64       \n",
            " 12  chip_data            1700 non-null   object        \n",
            " 13  observed             1700 non-null   int64         \n",
            "dtypes: UInt32(1), datetime64[ns](1), float64(6), geometry(1), int64(2), object(3)\n",
            "memory usage: 181.1+ KB\n"
          ]
        }
      ]
    },
    {
      "cell_type": "code",
      "source": [
        "unseen_df.shape"
      ],
      "metadata": {
        "colab": {
          "base_uri": "https://localhost:8080/"
        },
        "id": "wdXcGvSCgwnJ",
        "outputId": "aa477293-a7a9-406b-84e8-d601e312179b"
      },
      "execution_count": null,
      "outputs": [
        {
          "output_type": "execute_result",
          "data": {
            "text/plain": [
              "(1700, 14)"
            ]
          },
          "metadata": {},
          "execution_count": 47
        }
      ]
    },
    {
      "cell_type": "code",
      "source": [
        "unseen_df_clean = unseen_df.loc[:, ~unseen_df.columns.duplicated()]\n"
      ],
      "metadata": {
        "id": "3JkMWiGU5WbH"
      },
      "execution_count": null,
      "outputs": []
    },
    {
      "cell_type": "code",
      "source": [
        "unseen_df_clean.info()"
      ],
      "metadata": {
        "colab": {
          "base_uri": "https://localhost:8080/"
        },
        "id": "VrcZN6yI8Hog",
        "outputId": "67a4bdf2-63a6-4b6b-f93f-901fd80d364f"
      },
      "execution_count": null,
      "outputs": [
        {
          "output_type": "stream",
          "name": "stdout",
          "text": [
            "<class 'pandas.core.frame.DataFrame'>\n",
            "RangeIndex: 1700 entries, 0 to 1699\n",
            "Data columns (total 13 columns):\n",
            " #   Column               Non-Null Count  Dtype         \n",
            "---  ------               --------------  -----         \n",
            " 0   chip_data            1700 non-null   object        \n",
            " 1   ndvi_value           1700 non-null   float64       \n",
            " 2   topo_DEM             1700 non-null   float64       \n",
            " 3   wkt_geom             1700 non-null   object        \n",
            " 4   date                 1700 non-null   datetime64[ns]\n",
            " 5   x                    1700 non-null   float64       \n",
            " 6   y                    1700 non-null   float64       \n",
            " 7   geometry             1700 non-null   geometry      \n",
            " 8   timestamp            1700 non-null   float64       \n",
            " 9   day                  1700 non-null   int64         \n",
            " 10  week                 1700 non-null   UInt32        \n",
            " 11  dist_between_points  1700 non-null   float64       \n",
            " 12  observed             1700 non-null   int64         \n",
            "dtypes: UInt32(1), datetime64[ns](1), float64(6), geometry(1), int64(2), object(2)\n",
            "memory usage: 167.8+ KB\n"
          ]
        }
      ]
    },
    {
      "cell_type": "code",
      "source": [
        "# reorder the columns \n",
        "# df = fo_df.reindex(columns=jag_df.columns)\n",
        "df1 = unseen_df_clean.reindex(columns=['date','chip_data','ndvi_value','wkt_geom','x','y','geometry','day','week','dist_between_points','topo_DEM','observed'])\n",
        "df1.head(1)"
      ],
      "metadata": {
        "id": "j28XljrBNgaQ",
        "colab": {
          "base_uri": "https://localhost:8080/",
          "height": 229
        },
        "outputId": "60a93d05-ab6c-4860-808b-0da8c13d9544"
      },
      "execution_count": null,
      "outputs": [
        {
          "output_type": "execute_result",
          "data": {
            "text/plain": [
              "        date                                          chip_data  ndvi_value                                           wkt_geom              x             y                        geometry  day  week  dist_between_points  topo_DEM  observed\n",
              "0 2013-05-11  [[[6080, 4573, 3827, 4151, 4829], [6160, 4694,...    0.244891  Point (284728.91250939114252105 2091830.923457...  284728.912509  2.091831e+06  POINT (284728.913 2091830.923)   11    19                  0.0      83.0         0"
            ],
            "text/html": [
              "\n",
              "  <div id=\"df-38c9cf81-ed02-47fe-8035-4b53b3a37fec\">\n",
              "    <div class=\"colab-df-container\">\n",
              "      <div>\n",
              "<style scoped>\n",
              "    .dataframe tbody tr th:only-of-type {\n",
              "        vertical-align: middle;\n",
              "    }\n",
              "\n",
              "    .dataframe tbody tr th {\n",
              "        vertical-align: top;\n",
              "    }\n",
              "\n",
              "    .dataframe thead th {\n",
              "        text-align: right;\n",
              "    }\n",
              "</style>\n",
              "<table border=\"1\" class=\"dataframe\">\n",
              "  <thead>\n",
              "    <tr style=\"text-align: right;\">\n",
              "      <th></th>\n",
              "      <th>date</th>\n",
              "      <th>chip_data</th>\n",
              "      <th>ndvi_value</th>\n",
              "      <th>wkt_geom</th>\n",
              "      <th>x</th>\n",
              "      <th>y</th>\n",
              "      <th>geometry</th>\n",
              "      <th>day</th>\n",
              "      <th>week</th>\n",
              "      <th>dist_between_points</th>\n",
              "      <th>topo_DEM</th>\n",
              "      <th>observed</th>\n",
              "    </tr>\n",
              "  </thead>\n",
              "  <tbody>\n",
              "    <tr>\n",
              "      <th>0</th>\n",
              "      <td>2013-05-11</td>\n",
              "      <td>[[[6080, 4573, 3827, 4151, 4829], [6160, 4694,...</td>\n",
              "      <td>0.244891</td>\n",
              "      <td>Point (284728.91250939114252105 2091830.923457...</td>\n",
              "      <td>284728.912509</td>\n",
              "      <td>2.091831e+06</td>\n",
              "      <td>POINT (284728.913 2091830.923)</td>\n",
              "      <td>11</td>\n",
              "      <td>19</td>\n",
              "      <td>0.0</td>\n",
              "      <td>83.0</td>\n",
              "      <td>0</td>\n",
              "    </tr>\n",
              "  </tbody>\n",
              "</table>\n",
              "</div>\n",
              "      <button class=\"colab-df-convert\" onclick=\"convertToInteractive('df-38c9cf81-ed02-47fe-8035-4b53b3a37fec')\"\n",
              "              title=\"Convert this dataframe to an interactive table.\"\n",
              "              style=\"display:none;\">\n",
              "        \n",
              "  <svg xmlns=\"http://www.w3.org/2000/svg\" height=\"24px\"viewBox=\"0 0 24 24\"\n",
              "       width=\"24px\">\n",
              "    <path d=\"M0 0h24v24H0V0z\" fill=\"none\"/>\n",
              "    <path d=\"M18.56 5.44l.94 2.06.94-2.06 2.06-.94-2.06-.94-.94-2.06-.94 2.06-2.06.94zm-11 1L8.5 8.5l.94-2.06 2.06-.94-2.06-.94L8.5 2.5l-.94 2.06-2.06.94zm10 10l.94 2.06.94-2.06 2.06-.94-2.06-.94-.94-2.06-.94 2.06-2.06.94z\"/><path d=\"M17.41 7.96l-1.37-1.37c-.4-.4-.92-.59-1.43-.59-.52 0-1.04.2-1.43.59L10.3 9.45l-7.72 7.72c-.78.78-.78 2.05 0 2.83L4 21.41c.39.39.9.59 1.41.59.51 0 1.02-.2 1.41-.59l7.78-7.78 2.81-2.81c.8-.78.8-2.07 0-2.86zM5.41 20L4 18.59l7.72-7.72 1.47 1.35L5.41 20z\"/>\n",
              "  </svg>\n",
              "      </button>\n",
              "      \n",
              "  <style>\n",
              "    .colab-df-container {\n",
              "      display:flex;\n",
              "      flex-wrap:wrap;\n",
              "      gap: 12px;\n",
              "    }\n",
              "\n",
              "    .colab-df-convert {\n",
              "      background-color: #E8F0FE;\n",
              "      border: none;\n",
              "      border-radius: 50%;\n",
              "      cursor: pointer;\n",
              "      display: none;\n",
              "      fill: #1967D2;\n",
              "      height: 32px;\n",
              "      padding: 0 0 0 0;\n",
              "      width: 32px;\n",
              "    }\n",
              "\n",
              "    .colab-df-convert:hover {\n",
              "      background-color: #E2EBFA;\n",
              "      box-shadow: 0px 1px 2px rgba(60, 64, 67, 0.3), 0px 1px 3px 1px rgba(60, 64, 67, 0.15);\n",
              "      fill: #174EA6;\n",
              "    }\n",
              "\n",
              "    [theme=dark] .colab-df-convert {\n",
              "      background-color: #3B4455;\n",
              "      fill: #D2E3FC;\n",
              "    }\n",
              "\n",
              "    [theme=dark] .colab-df-convert:hover {\n",
              "      background-color: #434B5C;\n",
              "      box-shadow: 0px 1px 3px 1px rgba(0, 0, 0, 0.15);\n",
              "      filter: drop-shadow(0px 1px 2px rgba(0, 0, 0, 0.3));\n",
              "      fill: #FFFFFF;\n",
              "    }\n",
              "  </style>\n",
              "\n",
              "      <script>\n",
              "        const buttonEl =\n",
              "          document.querySelector('#df-38c9cf81-ed02-47fe-8035-4b53b3a37fec button.colab-df-convert');\n",
              "        buttonEl.style.display =\n",
              "          google.colab.kernel.accessAllowed ? 'block' : 'none';\n",
              "\n",
              "        async function convertToInteractive(key) {\n",
              "          const element = document.querySelector('#df-38c9cf81-ed02-47fe-8035-4b53b3a37fec');\n",
              "          const dataTable =\n",
              "            await google.colab.kernel.invokeFunction('convertToInteractive',\n",
              "                                                     [key], {});\n",
              "          if (!dataTable) return;\n",
              "\n",
              "          const docLinkHtml = 'Like what you see? Visit the ' +\n",
              "            '<a target=\"_blank\" href=https://colab.research.google.com/notebooks/data_table.ipynb>data table notebook</a>'\n",
              "            + ' to learn more about interactive tables.';\n",
              "          element.innerHTML = '';\n",
              "          dataTable['output_type'] = 'display_data';\n",
              "          await google.colab.output.renderOutput(dataTable, element);\n",
              "          const docLink = document.createElement('div');\n",
              "          docLink.innerHTML = docLinkHtml;\n",
              "          element.appendChild(docLink);\n",
              "        }\n",
              "      </script>\n",
              "    </div>\n",
              "  </div>\n",
              "  "
            ]
          },
          "metadata": {},
          "execution_count": 50
        }
      ]
    },
    {
      "cell_type": "code",
      "source": [
        "df2 = observed_df.reindex(columns=df1.columns)\n",
        "df2.head(1)"
      ],
      "metadata": {
        "colab": {
          "base_uri": "https://localhost:8080/",
          "height": 195
        },
        "id": "0T7O7YZe5o6d",
        "outputId": "244e67df-e077-43ee-cbc8-9b3c962f1a58"
      },
      "execution_count": null,
      "outputs": [
        {
          "output_type": "execute_result",
          "data": {
            "text/plain": [
              "         date                                          chip_data  ndvi_value                                           wkt_geom              x             y                        geometry  day  week  dist_between_points  topo_DEM  observed\n",
              "0  2013-05-11  [[[0, 0, 0, 0, 0], [0, 0, 0, 0, 0], [0, 0, 0, ...    0.370446  Point (275202.23302631557453424 2064878.131713...  275202.233026  2.064878e+06  POINT (275202.233 2064878.132)   11    19                  0.0     139.0         1"
            ],
            "text/html": [
              "\n",
              "  <div id=\"df-0df83c09-5ba4-40b0-83a1-51f4b5573172\">\n",
              "    <div class=\"colab-df-container\">\n",
              "      <div>\n",
              "<style scoped>\n",
              "    .dataframe tbody tr th:only-of-type {\n",
              "        vertical-align: middle;\n",
              "    }\n",
              "\n",
              "    .dataframe tbody tr th {\n",
              "        vertical-align: top;\n",
              "    }\n",
              "\n",
              "    .dataframe thead th {\n",
              "        text-align: right;\n",
              "    }\n",
              "</style>\n",
              "<table border=\"1\" class=\"dataframe\">\n",
              "  <thead>\n",
              "    <tr style=\"text-align: right;\">\n",
              "      <th></th>\n",
              "      <th>date</th>\n",
              "      <th>chip_data</th>\n",
              "      <th>ndvi_value</th>\n",
              "      <th>wkt_geom</th>\n",
              "      <th>x</th>\n",
              "      <th>y</th>\n",
              "      <th>geometry</th>\n",
              "      <th>day</th>\n",
              "      <th>week</th>\n",
              "      <th>dist_between_points</th>\n",
              "      <th>topo_DEM</th>\n",
              "      <th>observed</th>\n",
              "    </tr>\n",
              "  </thead>\n",
              "  <tbody>\n",
              "    <tr>\n",
              "      <th>0</th>\n",
              "      <td>2013-05-11</td>\n",
              "      <td>[[[0, 0, 0, 0, 0], [0, 0, 0, 0, 0], [0, 0, 0, ...</td>\n",
              "      <td>0.370446</td>\n",
              "      <td>Point (275202.23302631557453424 2064878.131713...</td>\n",
              "      <td>275202.233026</td>\n",
              "      <td>2.064878e+06</td>\n",
              "      <td>POINT (275202.233 2064878.132)</td>\n",
              "      <td>11</td>\n",
              "      <td>19</td>\n",
              "      <td>0.0</td>\n",
              "      <td>139.0</td>\n",
              "      <td>1</td>\n",
              "    </tr>\n",
              "  </tbody>\n",
              "</table>\n",
              "</div>\n",
              "      <button class=\"colab-df-convert\" onclick=\"convertToInteractive('df-0df83c09-5ba4-40b0-83a1-51f4b5573172')\"\n",
              "              title=\"Convert this dataframe to an interactive table.\"\n",
              "              style=\"display:none;\">\n",
              "        \n",
              "  <svg xmlns=\"http://www.w3.org/2000/svg\" height=\"24px\"viewBox=\"0 0 24 24\"\n",
              "       width=\"24px\">\n",
              "    <path d=\"M0 0h24v24H0V0z\" fill=\"none\"/>\n",
              "    <path d=\"M18.56 5.44l.94 2.06.94-2.06 2.06-.94-2.06-.94-.94-2.06-.94 2.06-2.06.94zm-11 1L8.5 8.5l.94-2.06 2.06-.94-2.06-.94L8.5 2.5l-.94 2.06-2.06.94zm10 10l.94 2.06.94-2.06 2.06-.94-2.06-.94-.94-2.06-.94 2.06-2.06.94z\"/><path d=\"M17.41 7.96l-1.37-1.37c-.4-.4-.92-.59-1.43-.59-.52 0-1.04.2-1.43.59L10.3 9.45l-7.72 7.72c-.78.78-.78 2.05 0 2.83L4 21.41c.39.39.9.59 1.41.59.51 0 1.02-.2 1.41-.59l7.78-7.78 2.81-2.81c.8-.78.8-2.07 0-2.86zM5.41 20L4 18.59l7.72-7.72 1.47 1.35L5.41 20z\"/>\n",
              "  </svg>\n",
              "      </button>\n",
              "      \n",
              "  <style>\n",
              "    .colab-df-container {\n",
              "      display:flex;\n",
              "      flex-wrap:wrap;\n",
              "      gap: 12px;\n",
              "    }\n",
              "\n",
              "    .colab-df-convert {\n",
              "      background-color: #E8F0FE;\n",
              "      border: none;\n",
              "      border-radius: 50%;\n",
              "      cursor: pointer;\n",
              "      display: none;\n",
              "      fill: #1967D2;\n",
              "      height: 32px;\n",
              "      padding: 0 0 0 0;\n",
              "      width: 32px;\n",
              "    }\n",
              "\n",
              "    .colab-df-convert:hover {\n",
              "      background-color: #E2EBFA;\n",
              "      box-shadow: 0px 1px 2px rgba(60, 64, 67, 0.3), 0px 1px 3px 1px rgba(60, 64, 67, 0.15);\n",
              "      fill: #174EA6;\n",
              "    }\n",
              "\n",
              "    [theme=dark] .colab-df-convert {\n",
              "      background-color: #3B4455;\n",
              "      fill: #D2E3FC;\n",
              "    }\n",
              "\n",
              "    [theme=dark] .colab-df-convert:hover {\n",
              "      background-color: #434B5C;\n",
              "      box-shadow: 0px 1px 3px 1px rgba(0, 0, 0, 0.15);\n",
              "      filter: drop-shadow(0px 1px 2px rgba(0, 0, 0, 0.3));\n",
              "      fill: #FFFFFF;\n",
              "    }\n",
              "  </style>\n",
              "\n",
              "      <script>\n",
              "        const buttonEl =\n",
              "          document.querySelector('#df-0df83c09-5ba4-40b0-83a1-51f4b5573172 button.colab-df-convert');\n",
              "        buttonEl.style.display =\n",
              "          google.colab.kernel.accessAllowed ? 'block' : 'none';\n",
              "\n",
              "        async function convertToInteractive(key) {\n",
              "          const element = document.querySelector('#df-0df83c09-5ba4-40b0-83a1-51f4b5573172');\n",
              "          const dataTable =\n",
              "            await google.colab.kernel.invokeFunction('convertToInteractive',\n",
              "                                                     [key], {});\n",
              "          if (!dataTable) return;\n",
              "\n",
              "          const docLinkHtml = 'Like what you see? Visit the ' +\n",
              "            '<a target=\"_blank\" href=https://colab.research.google.com/notebooks/data_table.ipynb>data table notebook</a>'\n",
              "            + ' to learn more about interactive tables.';\n",
              "          element.innerHTML = '';\n",
              "          dataTable['output_type'] = 'display_data';\n",
              "          await google.colab.output.renderOutput(dataTable, element);\n",
              "          const docLink = document.createElement('div');\n",
              "          docLink.innerHTML = docLinkHtml;\n",
              "          element.appendChild(docLink);\n",
              "        }\n",
              "      </script>\n",
              "    </div>\n",
              "  </div>\n",
              "  "
            ]
          },
          "metadata": {},
          "execution_count": 51
        }
      ]
    },
    {
      "cell_type": "code",
      "source": [
        "df2.info()"
      ],
      "metadata": {
        "colab": {
          "base_uri": "https://localhost:8080/"
        },
        "id": "2kO8IWsVMJMb",
        "outputId": "d112eff0-0b58-4d8b-ebd0-35863668f101"
      },
      "execution_count": null,
      "outputs": [
        {
          "output_type": "stream",
          "name": "stdout",
          "text": [
            "<class 'pandas.core.frame.DataFrame'>\n",
            "RangeIndex: 1773 entries, 0 to 1772\n",
            "Data columns (total 12 columns):\n",
            " #   Column               Non-Null Count  Dtype   \n",
            "---  ------               --------------  -----   \n",
            " 0   date                 1773 non-null   object  \n",
            " 1   chip_data            1773 non-null   object  \n",
            " 2   ndvi_value           1773 non-null   float64 \n",
            " 3   wkt_geom             1773 non-null   object  \n",
            " 4   x                    1773 non-null   float64 \n",
            " 5   y                    1773 non-null   float64 \n",
            " 6   geometry             1773 non-null   geometry\n",
            " 7   day                  1773 non-null   int64   \n",
            " 8   week                 1773 non-null   UInt32  \n",
            " 9   dist_between_points  1773 non-null   float64 \n",
            " 10  topo_DEM             1773 non-null   float64 \n",
            " 11  observed             1773 non-null   int64   \n",
            "dtypes: UInt32(1), float64(5), geometry(1), int64(2), object(3)\n",
            "memory usage: 161.1+ KB\n"
          ]
        }
      ]
    },
    {
      "cell_type": "code",
      "source": [
        "jag_complete_df = pd.concat([df1, df2], axis=0)"
      ],
      "metadata": {
        "id": "DYcBNdhpJ4ba"
      },
      "execution_count": null,
      "outputs": []
    },
    {
      "cell_type": "code",
      "source": [
        "jag_complete_df.info()"
      ],
      "metadata": {
        "colab": {
          "base_uri": "https://localhost:8080/"
        },
        "id": "Dl9lzZKLLyAD",
        "outputId": "ea88da7d-2359-4995-b24c-f7a5e339ec69"
      },
      "execution_count": null,
      "outputs": [
        {
          "output_type": "stream",
          "name": "stdout",
          "text": [
            "<class 'pandas.core.frame.DataFrame'>\n",
            "Int64Index: 3473 entries, 0 to 1772\n",
            "Data columns (total 12 columns):\n",
            " #   Column               Non-Null Count  Dtype   \n",
            "---  ------               --------------  -----   \n",
            " 0   date                 3473 non-null   object  \n",
            " 1   chip_data            3473 non-null   object  \n",
            " 2   ndvi_value           3473 non-null   float64 \n",
            " 3   wkt_geom             3473 non-null   object  \n",
            " 4   x                    3473 non-null   float64 \n",
            " 5   y                    3473 non-null   float64 \n",
            " 6   geometry             3473 non-null   geometry\n",
            " 7   day                  3473 non-null   int64   \n",
            " 8   week                 3473 non-null   UInt32  \n",
            " 9   dist_between_points  3473 non-null   float64 \n",
            " 10  topo_DEM             3473 non-null   float64 \n",
            " 11  observed             3473 non-null   int64   \n",
            "dtypes: UInt32(1), float64(5), geometry(1), int64(2), object(3)\n",
            "memory usage: 342.6+ KB\n"
          ]
        }
      ]
    },
    {
      "cell_type": "code",
      "source": [
        "jag_complete_df.tail(2)"
      ],
      "metadata": {
        "id": "4sxc1WNqYuOW",
        "colab": {
          "base_uri": "https://localhost:8080/",
          "height": 277
        },
        "outputId": "f778b30b-a0c2-4ee3-ba67-35bfc9c0ea92"
      },
      "execution_count": null,
      "outputs": [
        {
          "output_type": "execute_result",
          "data": {
            "text/plain": [
              "            date                                          chip_data  ndvi_value                                           wkt_geom              x             y                        geometry  day  week  dist_between_points  topo_DEM  observed\n",
              "1771  2014-05-05  [[[0, 0, 0, 0, 0], [5078, 4211, 2285, 4673, 10...    0.383713  Point (275191.15383531514089555 2064833.975330...  275191.153835  2.064834e+06  POINT (275191.154 2064833.975)    5    19            23.832830     136.0         1\n",
              "1772  2014-05-05  [[[0, 0, 0, 0, 0], [0, 0, 0, 0, 0], [0, 0, 0, ...    0.365515  Point (275191.4175098433624953 2064856.1163516...  275191.417510  2.064856e+06  POINT (275191.418 2064856.116)    5    19            45.525103     136.0         1"
            ],
            "text/html": [
              "\n",
              "  <div id=\"df-029f4c5b-f382-4ad0-a26b-bcdcd97165c5\">\n",
              "    <div class=\"colab-df-container\">\n",
              "      <div>\n",
              "<style scoped>\n",
              "    .dataframe tbody tr th:only-of-type {\n",
              "        vertical-align: middle;\n",
              "    }\n",
              "\n",
              "    .dataframe tbody tr th {\n",
              "        vertical-align: top;\n",
              "    }\n",
              "\n",
              "    .dataframe thead th {\n",
              "        text-align: right;\n",
              "    }\n",
              "</style>\n",
              "<table border=\"1\" class=\"dataframe\">\n",
              "  <thead>\n",
              "    <tr style=\"text-align: right;\">\n",
              "      <th></th>\n",
              "      <th>date</th>\n",
              "      <th>chip_data</th>\n",
              "      <th>ndvi_value</th>\n",
              "      <th>wkt_geom</th>\n",
              "      <th>x</th>\n",
              "      <th>y</th>\n",
              "      <th>geometry</th>\n",
              "      <th>day</th>\n",
              "      <th>week</th>\n",
              "      <th>dist_between_points</th>\n",
              "      <th>topo_DEM</th>\n",
              "      <th>observed</th>\n",
              "    </tr>\n",
              "  </thead>\n",
              "  <tbody>\n",
              "    <tr>\n",
              "      <th>1771</th>\n",
              "      <td>2014-05-05</td>\n",
              "      <td>[[[0, 0, 0, 0, 0], [5078, 4211, 2285, 4673, 10...</td>\n",
              "      <td>0.383713</td>\n",
              "      <td>Point (275191.15383531514089555 2064833.975330...</td>\n",
              "      <td>275191.153835</td>\n",
              "      <td>2.064834e+06</td>\n",
              "      <td>POINT (275191.154 2064833.975)</td>\n",
              "      <td>5</td>\n",
              "      <td>19</td>\n",
              "      <td>23.832830</td>\n",
              "      <td>136.0</td>\n",
              "      <td>1</td>\n",
              "    </tr>\n",
              "    <tr>\n",
              "      <th>1772</th>\n",
              "      <td>2014-05-05</td>\n",
              "      <td>[[[0, 0, 0, 0, 0], [0, 0, 0, 0, 0], [0, 0, 0, ...</td>\n",
              "      <td>0.365515</td>\n",
              "      <td>Point (275191.4175098433624953 2064856.1163516...</td>\n",
              "      <td>275191.417510</td>\n",
              "      <td>2.064856e+06</td>\n",
              "      <td>POINT (275191.418 2064856.116)</td>\n",
              "      <td>5</td>\n",
              "      <td>19</td>\n",
              "      <td>45.525103</td>\n",
              "      <td>136.0</td>\n",
              "      <td>1</td>\n",
              "    </tr>\n",
              "  </tbody>\n",
              "</table>\n",
              "</div>\n",
              "      <button class=\"colab-df-convert\" onclick=\"convertToInteractive('df-029f4c5b-f382-4ad0-a26b-bcdcd97165c5')\"\n",
              "              title=\"Convert this dataframe to an interactive table.\"\n",
              "              style=\"display:none;\">\n",
              "        \n",
              "  <svg xmlns=\"http://www.w3.org/2000/svg\" height=\"24px\"viewBox=\"0 0 24 24\"\n",
              "       width=\"24px\">\n",
              "    <path d=\"M0 0h24v24H0V0z\" fill=\"none\"/>\n",
              "    <path d=\"M18.56 5.44l.94 2.06.94-2.06 2.06-.94-2.06-.94-.94-2.06-.94 2.06-2.06.94zm-11 1L8.5 8.5l.94-2.06 2.06-.94-2.06-.94L8.5 2.5l-.94 2.06-2.06.94zm10 10l.94 2.06.94-2.06 2.06-.94-2.06-.94-.94-2.06-.94 2.06-2.06.94z\"/><path d=\"M17.41 7.96l-1.37-1.37c-.4-.4-.92-.59-1.43-.59-.52 0-1.04.2-1.43.59L10.3 9.45l-7.72 7.72c-.78.78-.78 2.05 0 2.83L4 21.41c.39.39.9.59 1.41.59.51 0 1.02-.2 1.41-.59l7.78-7.78 2.81-2.81c.8-.78.8-2.07 0-2.86zM5.41 20L4 18.59l7.72-7.72 1.47 1.35L5.41 20z\"/>\n",
              "  </svg>\n",
              "      </button>\n",
              "      \n",
              "  <style>\n",
              "    .colab-df-container {\n",
              "      display:flex;\n",
              "      flex-wrap:wrap;\n",
              "      gap: 12px;\n",
              "    }\n",
              "\n",
              "    .colab-df-convert {\n",
              "      background-color: #E8F0FE;\n",
              "      border: none;\n",
              "      border-radius: 50%;\n",
              "      cursor: pointer;\n",
              "      display: none;\n",
              "      fill: #1967D2;\n",
              "      height: 32px;\n",
              "      padding: 0 0 0 0;\n",
              "      width: 32px;\n",
              "    }\n",
              "\n",
              "    .colab-df-convert:hover {\n",
              "      background-color: #E2EBFA;\n",
              "      box-shadow: 0px 1px 2px rgba(60, 64, 67, 0.3), 0px 1px 3px 1px rgba(60, 64, 67, 0.15);\n",
              "      fill: #174EA6;\n",
              "    }\n",
              "\n",
              "    [theme=dark] .colab-df-convert {\n",
              "      background-color: #3B4455;\n",
              "      fill: #D2E3FC;\n",
              "    }\n",
              "\n",
              "    [theme=dark] .colab-df-convert:hover {\n",
              "      background-color: #434B5C;\n",
              "      box-shadow: 0px 1px 3px 1px rgba(0, 0, 0, 0.15);\n",
              "      filter: drop-shadow(0px 1px 2px rgba(0, 0, 0, 0.3));\n",
              "      fill: #FFFFFF;\n",
              "    }\n",
              "  </style>\n",
              "\n",
              "      <script>\n",
              "        const buttonEl =\n",
              "          document.querySelector('#df-029f4c5b-f382-4ad0-a26b-bcdcd97165c5 button.colab-df-convert');\n",
              "        buttonEl.style.display =\n",
              "          google.colab.kernel.accessAllowed ? 'block' : 'none';\n",
              "\n",
              "        async function convertToInteractive(key) {\n",
              "          const element = document.querySelector('#df-029f4c5b-f382-4ad0-a26b-bcdcd97165c5');\n",
              "          const dataTable =\n",
              "            await google.colab.kernel.invokeFunction('convertToInteractive',\n",
              "                                                     [key], {});\n",
              "          if (!dataTable) return;\n",
              "\n",
              "          const docLinkHtml = 'Like what you see? Visit the ' +\n",
              "            '<a target=\"_blank\" href=https://colab.research.google.com/notebooks/data_table.ipynb>data table notebook</a>'\n",
              "            + ' to learn more about interactive tables.';\n",
              "          element.innerHTML = '';\n",
              "          dataTable['output_type'] = 'display_data';\n",
              "          await google.colab.output.renderOutput(dataTable, element);\n",
              "          const docLink = document.createElement('div');\n",
              "          docLink.innerHTML = docLinkHtml;\n",
              "          element.appendChild(docLink);\n",
              "        }\n",
              "      </script>\n",
              "    </div>\n",
              "  </div>\n",
              "  "
            ]
          },
          "metadata": {},
          "execution_count": 78
        }
      ]
    },
    {
      "cell_type": "code",
      "source": [
        "jag_complete_df.shape"
      ],
      "metadata": {
        "colab": {
          "base_uri": "https://localhost:8080/"
        },
        "id": "hDMoKI_457y9",
        "outputId": "aee5c350-2a99-4123-af66-a78cd0c27506"
      },
      "execution_count": null,
      "outputs": [
        {
          "output_type": "execute_result",
          "data": {
            "text/plain": [
              "(3473, 12)"
            ]
          },
          "metadata": {},
          "execution_count": 56
        }
      ]
    },
    {
      "cell_type": "code",
      "source": [
        "# Convert 'date' column to Unix timestamps\n",
        "jag_complete_df['timestamp'] = jag_complete_df['date'].apply(lambda x: pd.Timestamp(x).timestamp())"
      ],
      "metadata": {
        "id": "YXd7s8Z2XkOV"
      },
      "execution_count": null,
      "outputs": []
    },
    {
      "cell_type": "code",
      "source": [
        "clean_df1=jag_complete_df.drop(['date'], axis=1)"
      ],
      "metadata": {
        "id": "3AtzNWSybJav"
      },
      "execution_count": null,
      "outputs": []
    },
    {
      "cell_type": "code",
      "source": [
        "clean_df=clean_df1.copy()"
      ],
      "metadata": {
        "id": "uHMeciCABHyd"
      },
      "execution_count": null,
      "outputs": []
    },
    {
      "cell_type": "code",
      "source": [
        "clean_df.tail(1)"
      ],
      "metadata": {
        "colab": {
          "base_uri": "https://localhost:8080/",
          "height": 195
        },
        "id": "xCIlIwYv6r2P",
        "outputId": "41c99c56-67d7-4a4a-d2a0-5dda05d6a3a2"
      },
      "execution_count": null,
      "outputs": [
        {
          "output_type": "execute_result",
          "data": {
            "text/plain": [
              "                                              chip_data  ndvi_value                                           wkt_geom             x             y                        geometry  day  week  dist_between_points  topo_DEM  observed\n",
              "1772  [[[0, 0, 0, 0, 0], [0, 0, 0, 0, 0], [0, 0, 0, ...    0.365515  Point (275191.4175098433624953 2064856.1163516...  275191.41751  2.064856e+06  POINT (275191.418 2064856.116)    5    19            45.525103     136.0         1"
            ],
            "text/html": [
              "\n",
              "  <div id=\"df-dfe67708-e306-4a4c-bf8d-f628fb95788b\">\n",
              "    <div class=\"colab-df-container\">\n",
              "      <div>\n",
              "<style scoped>\n",
              "    .dataframe tbody tr th:only-of-type {\n",
              "        vertical-align: middle;\n",
              "    }\n",
              "\n",
              "    .dataframe tbody tr th {\n",
              "        vertical-align: top;\n",
              "    }\n",
              "\n",
              "    .dataframe thead th {\n",
              "        text-align: right;\n",
              "    }\n",
              "</style>\n",
              "<table border=\"1\" class=\"dataframe\">\n",
              "  <thead>\n",
              "    <tr style=\"text-align: right;\">\n",
              "      <th></th>\n",
              "      <th>chip_data</th>\n",
              "      <th>ndvi_value</th>\n",
              "      <th>wkt_geom</th>\n",
              "      <th>x</th>\n",
              "      <th>y</th>\n",
              "      <th>geometry</th>\n",
              "      <th>day</th>\n",
              "      <th>week</th>\n",
              "      <th>dist_between_points</th>\n",
              "      <th>topo_DEM</th>\n",
              "      <th>observed</th>\n",
              "    </tr>\n",
              "  </thead>\n",
              "  <tbody>\n",
              "    <tr>\n",
              "      <th>1772</th>\n",
              "      <td>[[[0, 0, 0, 0, 0], [0, 0, 0, 0, 0], [0, 0, 0, ...</td>\n",
              "      <td>0.365515</td>\n",
              "      <td>Point (275191.4175098433624953 2064856.1163516...</td>\n",
              "      <td>275191.41751</td>\n",
              "      <td>2.064856e+06</td>\n",
              "      <td>POINT (275191.418 2064856.116)</td>\n",
              "      <td>5</td>\n",
              "      <td>19</td>\n",
              "      <td>45.525103</td>\n",
              "      <td>136.0</td>\n",
              "      <td>1</td>\n",
              "    </tr>\n",
              "  </tbody>\n",
              "</table>\n",
              "</div>\n",
              "      <button class=\"colab-df-convert\" onclick=\"convertToInteractive('df-dfe67708-e306-4a4c-bf8d-f628fb95788b')\"\n",
              "              title=\"Convert this dataframe to an interactive table.\"\n",
              "              style=\"display:none;\">\n",
              "        \n",
              "  <svg xmlns=\"http://www.w3.org/2000/svg\" height=\"24px\"viewBox=\"0 0 24 24\"\n",
              "       width=\"24px\">\n",
              "    <path d=\"M0 0h24v24H0V0z\" fill=\"none\"/>\n",
              "    <path d=\"M18.56 5.44l.94 2.06.94-2.06 2.06-.94-2.06-.94-.94-2.06-.94 2.06-2.06.94zm-11 1L8.5 8.5l.94-2.06 2.06-.94-2.06-.94L8.5 2.5l-.94 2.06-2.06.94zm10 10l.94 2.06.94-2.06 2.06-.94-2.06-.94-.94-2.06-.94 2.06-2.06.94z\"/><path d=\"M17.41 7.96l-1.37-1.37c-.4-.4-.92-.59-1.43-.59-.52 0-1.04.2-1.43.59L10.3 9.45l-7.72 7.72c-.78.78-.78 2.05 0 2.83L4 21.41c.39.39.9.59 1.41.59.51 0 1.02-.2 1.41-.59l7.78-7.78 2.81-2.81c.8-.78.8-2.07 0-2.86zM5.41 20L4 18.59l7.72-7.72 1.47 1.35L5.41 20z\"/>\n",
              "  </svg>\n",
              "      </button>\n",
              "      \n",
              "  <style>\n",
              "    .colab-df-container {\n",
              "      display:flex;\n",
              "      flex-wrap:wrap;\n",
              "      gap: 12px;\n",
              "    }\n",
              "\n",
              "    .colab-df-convert {\n",
              "      background-color: #E8F0FE;\n",
              "      border: none;\n",
              "      border-radius: 50%;\n",
              "      cursor: pointer;\n",
              "      display: none;\n",
              "      fill: #1967D2;\n",
              "      height: 32px;\n",
              "      padding: 0 0 0 0;\n",
              "      width: 32px;\n",
              "    }\n",
              "\n",
              "    .colab-df-convert:hover {\n",
              "      background-color: #E2EBFA;\n",
              "      box-shadow: 0px 1px 2px rgba(60, 64, 67, 0.3), 0px 1px 3px 1px rgba(60, 64, 67, 0.15);\n",
              "      fill: #174EA6;\n",
              "    }\n",
              "\n",
              "    [theme=dark] .colab-df-convert {\n",
              "      background-color: #3B4455;\n",
              "      fill: #D2E3FC;\n",
              "    }\n",
              "\n",
              "    [theme=dark] .colab-df-convert:hover {\n",
              "      background-color: #434B5C;\n",
              "      box-shadow: 0px 1px 3px 1px rgba(0, 0, 0, 0.15);\n",
              "      filter: drop-shadow(0px 1px 2px rgba(0, 0, 0, 0.3));\n",
              "      fill: #FFFFFF;\n",
              "    }\n",
              "  </style>\n",
              "\n",
              "      <script>\n",
              "        const buttonEl =\n",
              "          document.querySelector('#df-dfe67708-e306-4a4c-bf8d-f628fb95788b button.colab-df-convert');\n",
              "        buttonEl.style.display =\n",
              "          google.colab.kernel.accessAllowed ? 'block' : 'none';\n",
              "\n",
              "        async function convertToInteractive(key) {\n",
              "          const element = document.querySelector('#df-dfe67708-e306-4a4c-bf8d-f628fb95788b');\n",
              "          const dataTable =\n",
              "            await google.colab.kernel.invokeFunction('convertToInteractive',\n",
              "                                                     [key], {});\n",
              "          if (!dataTable) return;\n",
              "\n",
              "          const docLinkHtml = 'Like what you see? Visit the ' +\n",
              "            '<a target=\"_blank\" href=https://colab.research.google.com/notebooks/data_table.ipynb>data table notebook</a>'\n",
              "            + ' to learn more about interactive tables.';\n",
              "          element.innerHTML = '';\n",
              "          dataTable['output_type'] = 'display_data';\n",
              "          await google.colab.output.renderOutput(dataTable, element);\n",
              "          const docLink = document.createElement('div');\n",
              "          docLink.innerHTML = docLinkHtml;\n",
              "          element.appendChild(docLink);\n",
              "        }\n",
              "      </script>\n",
              "    </div>\n",
              "  </div>\n",
              "  "
            ]
          },
          "metadata": {},
          "execution_count": 85
        }
      ]
    },
    {
      "cell_type": "code",
      "source": [
        "clean_df1=clean_df.drop(['wkt_geom','geometry'], axis=1)"
      ],
      "metadata": {
        "id": "Ag5BLi49BtG7"
      },
      "execution_count": null,
      "outputs": []
    },
    {
      "cell_type": "code",
      "source": [
        "clean_df1.info()"
      ],
      "metadata": {
        "colab": {
          "base_uri": "https://localhost:8080/"
        },
        "id": "tznIF2jl-uQd",
        "outputId": "190778c2-be6c-4a7d-9c2f-9ce015db262f"
      },
      "execution_count": null,
      "outputs": [
        {
          "output_type": "stream",
          "name": "stdout",
          "text": [
            "<class 'pandas.core.frame.DataFrame'>\n",
            "Int64Index: 3473 entries, 0 to 1772\n",
            "Data columns (total 9 columns):\n",
            " #   Column               Non-Null Count  Dtype  \n",
            "---  ------               --------------  -----  \n",
            " 0   chip_data            3473 non-null   object \n",
            " 1   ndvi_value           3473 non-null   float64\n",
            " 2   x                    3473 non-null   float64\n",
            " 3   y                    3473 non-null   float64\n",
            " 4   day                  3473 non-null   int64  \n",
            " 5   week                 3473 non-null   UInt32 \n",
            " 6   dist_between_points  3473 non-null   float64\n",
            " 7   topo_DEM             3473 non-null   float64\n",
            " 8   observed             3473 non-null   int64  \n",
            "dtypes: UInt32(1), float64(5), int64(2), object(1)\n",
            "memory usage: 261.2+ KB\n"
          ]
        }
      ]
    },
    {
      "cell_type": "code",
      "source": [
        "#convert to string and replace characters\n",
        "clean_df['geometry'] = clean_df['geometry'].astype(str).str.replace('POINT ', '')\n",
        "clean_df['wkt_geom'] = clean_df['wkt_geom'].astype(str).str.replace('Point ', '')\n",
        "clean_df['geometry'] = clean_df['geometry'].astype(str).str.replace('(', '')\n",
        "clean_df['wkt_geom'] = clean_df['wkt_geom'].astype(str).str.replace('(', '')\n",
        "clean_df['geometry'] = clean_df['geometry'].astype(str).str.replace(')', '')\n",
        "clean_df['wkt_geom'] = clean_df['wkt_geom'].astype(str).str.replace(')', '')"
      ],
      "metadata": {
        "colab": {
          "base_uri": "https://localhost:8080/"
        },
        "id": "5asQ_PQqADkC",
        "outputId": "79839489-9337-461b-9c50-8bf1ed6d3f8b"
      },
      "execution_count": null,
      "outputs": [
        {
          "output_type": "stream",
          "name": "stderr",
          "text": [
            "<ipython-input-27-6002699f3993>:4: FutureWarning: The default value of regex will change from True to False in a future version. In addition, single character regular expressions will *not* be treated as literal strings when regex=True.\n",
            "  clean_df['geometry'] = clean_df['geometry'].astype(str).str.replace('(', '')\n",
            "<ipython-input-27-6002699f3993>:5: FutureWarning: The default value of regex will change from True to False in a future version. In addition, single character regular expressions will *not* be treated as literal strings when regex=True.\n",
            "  clean_df['wkt_geom'] = clean_df['wkt_geom'].astype(str).str.replace('(', '')\n",
            "<ipython-input-27-6002699f3993>:6: FutureWarning: The default value of regex will change from True to False in a future version. In addition, single character regular expressions will *not* be treated as literal strings when regex=True.\n",
            "  clean_df['geometry'] = clean_df['geometry'].astype(str).str.replace(')', '')\n",
            "<ipython-input-27-6002699f3993>:7: FutureWarning: The default value of regex will change from True to False in a future version. In addition, single character regular expressions will *not* be treated as literal strings when regex=True.\n",
            "  clean_df['wkt_geom'] = clean_df['wkt_geom'].astype(str).str.replace(')', '')\n"
          ]
        }
      ]
    },
    {
      "cell_type": "code",
      "source": [
        "columns_to_convert= \"\"\"chip_data,\tndvi_value, wkt_geom,\tx,\ty,\tgeometry,\tday,\tweek,\tdist_between_points,\ttopo_DEM,\tobserved,\ttimestamp\"\"\".split(',')  \n",
        "columns_to_convert = [feature.strip() for feature in columns_to_convert]\n",
        "columns_to_convert"
      ],
      "metadata": {
        "colab": {
          "base_uri": "https://localhost:8080/"
        },
        "id": "DEdBSB4LBXTH",
        "outputId": "4dcccef5-1537-4c3a-de76-fdd32dc3c274"
      },
      "execution_count": null,
      "outputs": [
        {
          "output_type": "execute_result",
          "data": {
            "text/plain": [
              "['chip_data',\n",
              " 'ndvi_value',\n",
              " 'wkt_geom',\n",
              " 'x',\n",
              " 'y',\n",
              " 'geometry',\n",
              " 'day',\n",
              " 'week',\n",
              " 'dist_between_points',\n",
              " 'topo_DEM',\n",
              " 'observed',\n",
              " 'timestamp']"
            ]
          },
          "metadata": {},
          "execution_count": 28
        }
      ]
    },
    {
      "cell_type": "code",
      "source": [
        "# Convert features to numeric data type\n",
        "clean_df[columns_to_convert] = clean_df[columns_to_convert].apply(pd.to_numeric, errors='coerce')\n",
        "\n",
        "clean_df.info()"
      ],
      "metadata": {
        "colab": {
          "base_uri": "https://localhost:8080/"
        },
        "id": "nr4naigV_h3-",
        "outputId": "9df3f86b-48a6-4189-ee36-71b19dd5c6ed"
      },
      "execution_count": null,
      "outputs": [
        {
          "output_type": "stream",
          "name": "stdout",
          "text": [
            "<class 'pandas.core.frame.DataFrame'>\n",
            "Int64Index: 3473 entries, 0 to 1772\n",
            "Data columns (total 12 columns):\n",
            " #   Column               Non-Null Count  Dtype  \n",
            "---  ------               --------------  -----  \n",
            " 0   chip_data            0 non-null      float64\n",
            " 1   ndvi_value           3473 non-null   float64\n",
            " 2   wkt_geom             0 non-null      float64\n",
            " 3   x                    3473 non-null   float64\n",
            " 4   y                    3473 non-null   float64\n",
            " 5   geometry             0 non-null      float64\n",
            " 6   day                  3473 non-null   int64  \n",
            " 7   week                 3473 non-null   UInt32 \n",
            " 8   dist_between_points  3473 non-null   float64\n",
            " 9   topo_DEM             1700 non-null   float64\n",
            " 10  observed             3473 non-null   int64  \n",
            " 11  timestamp            3473 non-null   float64\n",
            "dtypes: UInt32(1), float64(9), int64(2)\n",
            "memory usage: 342.6 KB\n"
          ]
        }
      ]
    },
    {
      "cell_type": "code",
      "source": [
        "clean_df.head(1)\n"
      ],
      "metadata": {
        "id": "HmcrPaq-drTD",
        "colab": {
          "base_uri": "https://localhost:8080/",
          "height": 144
        },
        "outputId": "0dc05a94-39b6-4c44-d107-220afb344cc9"
      },
      "execution_count": null,
      "outputs": [
        {
          "output_type": "execute_result",
          "data": {
            "text/plain": [
              "   chip_data  ndvi_value  wkt_geom              x             y  geometry  day  week  dist_between_points  topo_DEM  observed     timestamp\n",
              "0        NaN    0.244891       NaN  284728.912509  2.091831e+06       NaN   11    19                  0.0      83.0         0  1.368230e+09"
            ],
            "text/html": [
              "\n",
              "  <div id=\"df-26a126fc-48f9-482c-8253-dc048a977d1f\">\n",
              "    <div class=\"colab-df-container\">\n",
              "      <div>\n",
              "<style scoped>\n",
              "    .dataframe tbody tr th:only-of-type {\n",
              "        vertical-align: middle;\n",
              "    }\n",
              "\n",
              "    .dataframe tbody tr th {\n",
              "        vertical-align: top;\n",
              "    }\n",
              "\n",
              "    .dataframe thead th {\n",
              "        text-align: right;\n",
              "    }\n",
              "</style>\n",
              "<table border=\"1\" class=\"dataframe\">\n",
              "  <thead>\n",
              "    <tr style=\"text-align: right;\">\n",
              "      <th></th>\n",
              "      <th>chip_data</th>\n",
              "      <th>ndvi_value</th>\n",
              "      <th>wkt_geom</th>\n",
              "      <th>x</th>\n",
              "      <th>y</th>\n",
              "      <th>geometry</th>\n",
              "      <th>day</th>\n",
              "      <th>week</th>\n",
              "      <th>dist_between_points</th>\n",
              "      <th>topo_DEM</th>\n",
              "      <th>observed</th>\n",
              "      <th>timestamp</th>\n",
              "    </tr>\n",
              "  </thead>\n",
              "  <tbody>\n",
              "    <tr>\n",
              "      <th>0</th>\n",
              "      <td>NaN</td>\n",
              "      <td>0.244891</td>\n",
              "      <td>NaN</td>\n",
              "      <td>284728.912509</td>\n",
              "      <td>2.091831e+06</td>\n",
              "      <td>NaN</td>\n",
              "      <td>11</td>\n",
              "      <td>19</td>\n",
              "      <td>0.0</td>\n",
              "      <td>83.0</td>\n",
              "      <td>0</td>\n",
              "      <td>1.368230e+09</td>\n",
              "    </tr>\n",
              "  </tbody>\n",
              "</table>\n",
              "</div>\n",
              "      <button class=\"colab-df-convert\" onclick=\"convertToInteractive('df-26a126fc-48f9-482c-8253-dc048a977d1f')\"\n",
              "              title=\"Convert this dataframe to an interactive table.\"\n",
              "              style=\"display:none;\">\n",
              "        \n",
              "  <svg xmlns=\"http://www.w3.org/2000/svg\" height=\"24px\"viewBox=\"0 0 24 24\"\n",
              "       width=\"24px\">\n",
              "    <path d=\"M0 0h24v24H0V0z\" fill=\"none\"/>\n",
              "    <path d=\"M18.56 5.44l.94 2.06.94-2.06 2.06-.94-2.06-.94-.94-2.06-.94 2.06-2.06.94zm-11 1L8.5 8.5l.94-2.06 2.06-.94-2.06-.94L8.5 2.5l-.94 2.06-2.06.94zm10 10l.94 2.06.94-2.06 2.06-.94-2.06-.94-.94-2.06-.94 2.06-2.06.94z\"/><path d=\"M17.41 7.96l-1.37-1.37c-.4-.4-.92-.59-1.43-.59-.52 0-1.04.2-1.43.59L10.3 9.45l-7.72 7.72c-.78.78-.78 2.05 0 2.83L4 21.41c.39.39.9.59 1.41.59.51 0 1.02-.2 1.41-.59l7.78-7.78 2.81-2.81c.8-.78.8-2.07 0-2.86zM5.41 20L4 18.59l7.72-7.72 1.47 1.35L5.41 20z\"/>\n",
              "  </svg>\n",
              "      </button>\n",
              "      \n",
              "  <style>\n",
              "    .colab-df-container {\n",
              "      display:flex;\n",
              "      flex-wrap:wrap;\n",
              "      gap: 12px;\n",
              "    }\n",
              "\n",
              "    .colab-df-convert {\n",
              "      background-color: #E8F0FE;\n",
              "      border: none;\n",
              "      border-radius: 50%;\n",
              "      cursor: pointer;\n",
              "      display: none;\n",
              "      fill: #1967D2;\n",
              "      height: 32px;\n",
              "      padding: 0 0 0 0;\n",
              "      width: 32px;\n",
              "    }\n",
              "\n",
              "    .colab-df-convert:hover {\n",
              "      background-color: #E2EBFA;\n",
              "      box-shadow: 0px 1px 2px rgba(60, 64, 67, 0.3), 0px 1px 3px 1px rgba(60, 64, 67, 0.15);\n",
              "      fill: #174EA6;\n",
              "    }\n",
              "\n",
              "    [theme=dark] .colab-df-convert {\n",
              "      background-color: #3B4455;\n",
              "      fill: #D2E3FC;\n",
              "    }\n",
              "\n",
              "    [theme=dark] .colab-df-convert:hover {\n",
              "      background-color: #434B5C;\n",
              "      box-shadow: 0px 1px 3px 1px rgba(0, 0, 0, 0.15);\n",
              "      filter: drop-shadow(0px 1px 2px rgba(0, 0, 0, 0.3));\n",
              "      fill: #FFFFFF;\n",
              "    }\n",
              "  </style>\n",
              "\n",
              "      <script>\n",
              "        const buttonEl =\n",
              "          document.querySelector('#df-26a126fc-48f9-482c-8253-dc048a977d1f button.colab-df-convert');\n",
              "        buttonEl.style.display =\n",
              "          google.colab.kernel.accessAllowed ? 'block' : 'none';\n",
              "\n",
              "        async function convertToInteractive(key) {\n",
              "          const element = document.querySelector('#df-26a126fc-48f9-482c-8253-dc048a977d1f');\n",
              "          const dataTable =\n",
              "            await google.colab.kernel.invokeFunction('convertToInteractive',\n",
              "                                                     [key], {});\n",
              "          if (!dataTable) return;\n",
              "\n",
              "          const docLinkHtml = 'Like what you see? Visit the ' +\n",
              "            '<a target=\"_blank\" href=https://colab.research.google.com/notebooks/data_table.ipynb>data table notebook</a>'\n",
              "            + ' to learn more about interactive tables.';\n",
              "          element.innerHTML = '';\n",
              "          dataTable['output_type'] = 'display_data';\n",
              "          await google.colab.output.renderOutput(dataTable, element);\n",
              "          const docLink = document.createElement('div');\n",
              "          docLink.innerHTML = docLinkHtml;\n",
              "          element.appendChild(docLink);\n",
              "        }\n",
              "      </script>\n",
              "    </div>\n",
              "  </div>\n",
              "  "
            ]
          },
          "metadata": {},
          "execution_count": 30
        }
      ]
    },
    {
      "cell_type": "code",
      "source": [
        "# apply the load_npy function to the 'filename' column of the DataFrame\n",
        "clean = clean_df1['chip_data'].apply(lambda x: np.load(io.BytesIO(x)))\n"
      ],
      "metadata": {
        "id": "Lx_0mFIQcAUe",
        "colab": {
          "base_uri": "https://localhost:8080/",
          "height": 273
        },
        "outputId": "11eecd52-4605-42a7-ce64-b13e3924ca5d"
      },
      "execution_count": null,
      "outputs": [
        {
          "output_type": "error",
          "ename": "NameError",
          "evalue": "ignored",
          "traceback": [
            "\u001b[0;31m---------------------------------------------------------------------------\u001b[0m",
            "\u001b[0;31mNameError\u001b[0m                                 Traceback (most recent call last)",
            "\u001b[0;32m<ipython-input-31-b44e195b9b6b>\u001b[0m in \u001b[0;36m<cell line: 2>\u001b[0;34m()\u001b[0m\n\u001b[1;32m      1\u001b[0m \u001b[0;31m# apply the load_npy function to the 'filename' column of the DataFrame\u001b[0m\u001b[0;34m\u001b[0m\u001b[0;34m\u001b[0m\u001b[0m\n\u001b[0;32m----> 2\u001b[0;31m \u001b[0mclean\u001b[0m \u001b[0;34m=\u001b[0m \u001b[0mclean_df1\u001b[0m\u001b[0;34m[\u001b[0m\u001b[0;34m'chip_data'\u001b[0m\u001b[0;34m]\u001b[0m\u001b[0;34m.\u001b[0m\u001b[0mapply\u001b[0m\u001b[0;34m(\u001b[0m\u001b[0;32mlambda\u001b[0m \u001b[0mx\u001b[0m\u001b[0;34m:\u001b[0m \u001b[0mnp\u001b[0m\u001b[0;34m.\u001b[0m\u001b[0mload\u001b[0m\u001b[0;34m(\u001b[0m\u001b[0mio\u001b[0m\u001b[0;34m.\u001b[0m\u001b[0mBytesIO\u001b[0m\u001b[0;34m(\u001b[0m\u001b[0mx\u001b[0m\u001b[0;34m)\u001b[0m\u001b[0;34m)\u001b[0m\u001b[0;34m)\u001b[0m\u001b[0;34m\u001b[0m\u001b[0;34m\u001b[0m\u001b[0m\n\u001b[0m",
            "\u001b[0;32m/usr/local/lib/python3.10/dist-packages/pandas/core/series.py\u001b[0m in \u001b[0;36mapply\u001b[0;34m(self, func, convert_dtype, args, **kwargs)\u001b[0m\n\u001b[1;32m   4769\u001b[0m         \u001b[0mdtype\u001b[0m\u001b[0;34m:\u001b[0m \u001b[0mfloat64\u001b[0m\u001b[0;34m\u001b[0m\u001b[0;34m\u001b[0m\u001b[0m\n\u001b[1;32m   4770\u001b[0m         \"\"\"\n\u001b[0;32m-> 4771\u001b[0;31m         \u001b[0;32mreturn\u001b[0m \u001b[0mSeriesApply\u001b[0m\u001b[0;34m(\u001b[0m\u001b[0mself\u001b[0m\u001b[0;34m,\u001b[0m \u001b[0mfunc\u001b[0m\u001b[0;34m,\u001b[0m \u001b[0mconvert_dtype\u001b[0m\u001b[0;34m,\u001b[0m \u001b[0margs\u001b[0m\u001b[0;34m,\u001b[0m \u001b[0mkwargs\u001b[0m\u001b[0;34m)\u001b[0m\u001b[0;34m.\u001b[0m\u001b[0mapply\u001b[0m\u001b[0;34m(\u001b[0m\u001b[0;34m)\u001b[0m\u001b[0;34m\u001b[0m\u001b[0;34m\u001b[0m\u001b[0m\n\u001b[0m\u001b[1;32m   4772\u001b[0m \u001b[0;34m\u001b[0m\u001b[0m\n\u001b[1;32m   4773\u001b[0m     def _reduce(\n",
            "\u001b[0;32m/usr/local/lib/python3.10/dist-packages/pandas/core/apply.py\u001b[0m in \u001b[0;36mapply\u001b[0;34m(self)\u001b[0m\n\u001b[1;32m   1121\u001b[0m \u001b[0;34m\u001b[0m\u001b[0m\n\u001b[1;32m   1122\u001b[0m         \u001b[0;31m# self.f is Callable\u001b[0m\u001b[0;34m\u001b[0m\u001b[0;34m\u001b[0m\u001b[0m\n\u001b[0;32m-> 1123\u001b[0;31m         \u001b[0;32mreturn\u001b[0m \u001b[0mself\u001b[0m\u001b[0;34m.\u001b[0m\u001b[0mapply_standard\u001b[0m\u001b[0;34m(\u001b[0m\u001b[0;34m)\u001b[0m\u001b[0;34m\u001b[0m\u001b[0;34m\u001b[0m\u001b[0m\n\u001b[0m\u001b[1;32m   1124\u001b[0m \u001b[0;34m\u001b[0m\u001b[0m\n\u001b[1;32m   1125\u001b[0m     \u001b[0;32mdef\u001b[0m \u001b[0magg\u001b[0m\u001b[0;34m(\u001b[0m\u001b[0mself\u001b[0m\u001b[0;34m)\u001b[0m\u001b[0;34m:\u001b[0m\u001b[0;34m\u001b[0m\u001b[0;34m\u001b[0m\u001b[0m\n",
            "\u001b[0;32m/usr/local/lib/python3.10/dist-packages/pandas/core/apply.py\u001b[0m in \u001b[0;36mapply_standard\u001b[0;34m(self)\u001b[0m\n\u001b[1;32m   1172\u001b[0m             \u001b[0;32melse\u001b[0m\u001b[0;34m:\u001b[0m\u001b[0;34m\u001b[0m\u001b[0;34m\u001b[0m\u001b[0m\n\u001b[1;32m   1173\u001b[0m                 \u001b[0mvalues\u001b[0m \u001b[0;34m=\u001b[0m \u001b[0mobj\u001b[0m\u001b[0;34m.\u001b[0m\u001b[0mastype\u001b[0m\u001b[0;34m(\u001b[0m\u001b[0mobject\u001b[0m\u001b[0;34m)\u001b[0m\u001b[0;34m.\u001b[0m\u001b[0m_values\u001b[0m\u001b[0;34m\u001b[0m\u001b[0;34m\u001b[0m\u001b[0m\n\u001b[0;32m-> 1174\u001b[0;31m                 mapped = lib.map_infer(\n\u001b[0m\u001b[1;32m   1175\u001b[0m                     \u001b[0mvalues\u001b[0m\u001b[0;34m,\u001b[0m\u001b[0;34m\u001b[0m\u001b[0;34m\u001b[0m\u001b[0m\n\u001b[1;32m   1176\u001b[0m                     \u001b[0mf\u001b[0m\u001b[0;34m,\u001b[0m\u001b[0;34m\u001b[0m\u001b[0;34m\u001b[0m\u001b[0m\n",
            "\u001b[0;32m/usr/local/lib/python3.10/dist-packages/pandas/_libs/lib.pyx\u001b[0m in \u001b[0;36mpandas._libs.lib.map_infer\u001b[0;34m()\u001b[0m\n",
            "\u001b[0;32m<ipython-input-31-b44e195b9b6b>\u001b[0m in \u001b[0;36m<lambda>\u001b[0;34m(x)\u001b[0m\n\u001b[1;32m      1\u001b[0m \u001b[0;31m# apply the load_npy function to the 'filename' column of the DataFrame\u001b[0m\u001b[0;34m\u001b[0m\u001b[0;34m\u001b[0m\u001b[0m\n\u001b[0;32m----> 2\u001b[0;31m \u001b[0mclean\u001b[0m \u001b[0;34m=\u001b[0m \u001b[0mclean_df1\u001b[0m\u001b[0;34m[\u001b[0m\u001b[0;34m'chip_data'\u001b[0m\u001b[0;34m]\u001b[0m\u001b[0;34m.\u001b[0m\u001b[0mapply\u001b[0m\u001b[0;34m(\u001b[0m\u001b[0;32mlambda\u001b[0m \u001b[0mx\u001b[0m\u001b[0;34m:\u001b[0m \u001b[0mnp\u001b[0m\u001b[0;34m.\u001b[0m\u001b[0mload\u001b[0m\u001b[0;34m(\u001b[0m\u001b[0mio\u001b[0m\u001b[0;34m.\u001b[0m\u001b[0mBytesIO\u001b[0m\u001b[0;34m(\u001b[0m\u001b[0mx\u001b[0m\u001b[0;34m)\u001b[0m\u001b[0;34m)\u001b[0m\u001b[0;34m)\u001b[0m\u001b[0;34m\u001b[0m\u001b[0;34m\u001b[0m\u001b[0m\n\u001b[0m",
            "\u001b[0;31mNameError\u001b[0m: name 'io' is not defined"
          ]
        }
      ]
    },
    {
      "cell_type": "code",
      "source": [
        "from sklearn.model_selection import train_test_split\n",
        "from keras.preprocessing.image import ImageDataGenerator\n",
        "\n",
        "# Preprocessing the pixel chips (resize, normalize, etc.)\n",
        "def preprocess_chip(chip_data, target_size):\n",
        "    # Add your preprocessing logic here\n",
        "    pass\n",
        "\n",
        "# Preprocess all chip_data in the DataFrame\n",
        "clean_df1[\"chip_data\"] = clean_df1[\"chip_data\"].apply(lambda x: preprocess_chip(x, target_size))"
      ],
      "metadata": {
        "id": "nD6VVogQiuM2"
      },
      "execution_count": null,
      "outputs": []
    },
    {
      "cell_type": "code",
      "source": [
        "#clean_df=clean_df1.copy()"
      ],
      "metadata": {
        "id": "AHTQxujIQ4a3"
      },
      "execution_count": null,
      "outputs": []
    },
    {
      "cell_type": "code",
      "source": [
        "clean_df.head(1)"
      ],
      "metadata": {
        "id": "RZVC3uBZLbXv"
      },
      "execution_count": null,
      "outputs": []
    },
    {
      "cell_type": "code",
      "source": [
        "clean_df.isna().sum()"
      ],
      "metadata": {
        "id": "RpjWlQqBZANy"
      },
      "execution_count": null,
      "outputs": []
    },
    {
      "cell_type": "code",
      "source": [
        "pd.set_option(\"display.max_columns\", None)\n",
        "pd.set_option(\"display.max_rows\", None)\n",
        "pd.set_option('display.max_colwidth', 100)\n",
        "pd.set_option(\"display.expand_frame_repr\", False)"
      ],
      "metadata": {
        "id": "4qG62ojTU4cG"
      },
      "execution_count": null,
      "outputs": []
    },
    {
      "cell_type": "markdown",
      "source": [
        "# Preprocessing\n"
      ],
      "metadata": {
        "id": "FEwiUd31M6jE"
      }
    },
    {
      "cell_type": "code",
      "source": [
        "y = clean_df['observed'].copy()\n",
        "X = clean_df.drop('observed', axis = 1, inplace=False)"
      ],
      "metadata": {
        "id": "lTocZj3CLQAf"
      },
      "execution_count": null,
      "outputs": []
    },
    {
      "cell_type": "code",
      "source": [
        "# Load the DataFrame\n",
        "with open('pixel_chip_df.pkl', 'rb') as f:\n",
        "    pixel_chip_df = pickle.load(f)"
      ],
      "metadata": {
        "id": "mPT6itB-bJ-4"
      },
      "execution_count": null,
      "outputs": []
    },
    {
      "cell_type": "markdown",
      "source": [
        "#Random Forest"
      ],
      "metadata": {
        "id": "oUzyiYjVKzeh"
      }
    },
    {
      "cell_type": "code",
      "source": [
        "from sklearn.model_selection import train_test_split\n",
        "from sklearn.metrics import accuracy_score\n",
        "from sklearn.ensemble import RandomForestRegressor"
      ],
      "metadata": {
        "id": "ixSmaTrYT85v"
      },
      "execution_count": null,
      "outputs": []
    },
    {
      "cell_type": "code",
      "source": [
        "#Random Forrest\n",
        "num_loops = 10\n",
        "\n",
        "rms_error = np.zeros(num_loops)\n",
        "\n",
        "for idx in range(0, num_loops):\n",
        "  X_train, X_test, y_train, y_test = train_test_split(X,y,test_size=.2)\n",
        "  model = RandomForestRegressor(n_estimators=200, max_depth=None, min_samples_split=10)\n",
        "  model.fit(X_train,y_train)\n",
        "  y_pred = model.predict(X_test)\n",
        "  rms_error[idx]= np.sqrt(mean_squared_error(y_test, y_pred))\n",
        "\n",
        "print(f\" CV RMSE: {rms_error.mean().round(2)}\")"
      ],
      "metadata": {
        "id": "nr4Kwg5SK1ko"
      },
      "execution_count": null,
      "outputs": []
    },
    {
      "cell_type": "markdown",
      "source": [
        "#CNN\n",
        "- Advantages of using a CNN: \n",
        " - Spatial context: CNNs can efficiently capture spatial context and hierarchical features from the satellite images by using convolutional layers. This can be particularly helpful in understanding the relationships between jaguar locations and the surrounding habitat features.\n",
        " - Feature learning: CNNs can automatically learn relevant features from the data, which can be beneficial when working with high-dimensional or complex datasets, such as satellite images.\n",
        " - Integration of spectral information: CNNs can work with multi-band satellite images directly, allowing you to integrate spectral information from all available bands into the model."
      ],
      "metadata": {
        "id": "yTiPl_mlqv0b"
      }
    },
    {
      "cell_type": "markdown",
      "source": [
        "# Normalize the images"
      ],
      "metadata": {
        "id": "jrugCmhZcPz7"
      }
    },
    {
      "cell_type": "code",
      "source": [
        "sample_chip_shape = clean_df.loc[0, \"chip_data\"].shape\n",
        "print(f\"Sample chip shape: {sample_chip_shape}\")\n"
      ],
      "metadata": {
        "id": "aiwQJBM6s8uP"
      },
      "execution_count": null,
      "outputs": []
    },
    {
      "cell_type": "code",
      "source": [
        "# Assuming the pixel chips are stored in the 'chip_data' column of the DataFrame\n",
        "sample_chip = clean_df.loc[0, \"chip_data\"]\n",
        "height, width, channels = sample_chip.shape\n",
        "print(f\"Image height: {height}, Image width: {width}, Number of channels: {channels}\")\n"
      ],
      "metadata": {
        "id": "K8pmRIOupS9T"
      },
      "execution_count": null,
      "outputs": []
    },
    {
      "cell_type": "code",
      "source": [
        "height, width, channels = pixel_chip_df.shape\n",
        "print(f\"Image height: {height}, Image width: {width}, Number of channels: {channels}\")"
      ],
      "metadata": {
        "id": "yeAyXYwZpHUx"
      },
      "execution_count": null,
      "outputs": []
    },
    {
      "cell_type": "code",
      "source": [
        "def preprocess_chip(chip_data, target_size):\n",
        "    resized_chip = cv2.resize(chip_data, target_size)\n",
        "    normalized_chip = resized_chip / 255.0  # Scale pixel values to the range [0, 1]\n",
        "    return normalized_chip\n",
        "\n",
        "target_size = (32, 32)\n",
        "merged_df[\"chip_data\"] = merged_df[\"chip_data\"].apply(lambda x: preprocess_chip(x, target_size))\n"
      ],
      "metadata": {
        "id": "c8ixTRXMu3GQ"
      },
      "execution_count": null,
      "outputs": []
    },
    {
      "cell_type": "code",
      "source": [
        "clean_df1 = clean_df2.copy()"
      ],
      "metadata": {
        "id": "YII3Qj11V9Ml"
      },
      "execution_count": null,
      "outputs": []
    },
    {
      "cell_type": "code",
      "source": [
        "# Shuffle the data\n",
        "shuffled_df = clean_df1.sample(frac=1, random_state=42)\n",
        "clean_df1 = shuffled_df.copy()"
      ],
      "metadata": {
        "id": "5FimvQRHaPhn"
      },
      "execution_count": null,
      "outputs": []
    },
    {
      "cell_type": "code",
      "source": [
        "X = X/255.0\n",
        "X.shape"
      ],
      "metadata": {
        "id": "LnIL7eJwXmY3"
      },
      "execution_count": null,
      "outputs": []
    },
    {
      "cell_type": "code",
      "source": [
        "np.shape(X[1,:,:,0])"
      ],
      "metadata": {
        "id": "fHflU0RYXr0B"
      },
      "execution_count": null,
      "outputs": []
    },
    {
      "cell_type": "code",
      "source": [
        "plt.imshow(X[6,:,:,0],cmap = 'gray')\n",
        "plt.show()"
      ],
      "metadata": {
        "id": "LnNp0WooXznQ"
      },
      "execution_count": null,
      "outputs": []
    },
    {
      "cell_type": "code",
      "source": [
        "y = to_categorical(y, num_classes=2)"
      ],
      "metadata": {
        "id": "xtt8Yctob8KC"
      },
      "execution_count": null,
      "outputs": []
    },
    {
      "cell_type": "code",
      "source": [
        "y "
      ],
      "metadata": {
        "colab": {
          "base_uri": "https://localhost:8080/"
        },
        "id": "DUCLrOXiUnaF",
        "outputId": "1a96f58c-3d07-42f2-e1d5-776cd8aace0e"
      },
      "execution_count": null,
      "outputs": [
        {
          "output_type": "execute_result",
          "data": {
            "text/plain": [
              "array([[0., 1.],\n",
              "       [0., 1.],\n",
              "       [0., 1.],\n",
              "       ...,\n",
              "       [1., 0.],\n",
              "       [1., 0.],\n",
              "       [1., 0.]], dtype=float32)"
            ]
          },
          "metadata": {},
          "execution_count": 71
        }
      ]
    },
    {
      "cell_type": "code",
      "source": [
        "clean_df1['observed']"
      ],
      "metadata": {
        "id": "UVWUgIj7U8EE"
      },
      "execution_count": null,
      "outputs": []
    },
    {
      "cell_type": "markdown",
      "source": [
        "#Preprocess"
      ],
      "metadata": {
        "id": "vNjOtSxZcnlh"
      }
    },
    {
      "cell_type": "code",
      "source": [
        "import cv2\n",
        "from sklearn.preprocessing import StandardScaler, OneHotEncoder\n",
        "\n",
        "# Preprocess pixel chips (resize and normalize)\n",
        "def preprocess_chip(chip_data, target_size):\n",
        "    resized_chip = cv2.resize(chip_data, target_size)\n",
        "    normalized_chip = resized_chip / 255.0  # Scale pixel values to the range [0, 1]\n",
        "    return normalized_chip\n",
        "\n",
        "target_size = (15, 15)\n",
        "clean_df1[\"chip_data\"] = clean_df1[\"chip_data\"].apply(lambda x: preprocess_chip(x, target_size))\n",
        "\n",
        "# Preprocess non-image features (scale/normalize numerical features, one-hot encode categorical features)\n",
        "numerical_features = [\"ndvi_value\", \"x\", \"y\", \"day\", \"week\", \"dist_between_points\", \"topo_DEM\"]\n",
        "scaler = StandardScaler()\n",
        "clean_df1[numerical_features] = scaler.fit_transform(clean_df[numerical_features])\n",
        "\n",
        "\n",
        "# Split the data into training and validation/test sets\n",
        "train_df, test_df = train_test_split(clean_df, test_size=0.2, random_state=42)\n"
      ],
      "metadata": {
        "id": "mWmmHheEn6ot"
      },
      "execution_count": null,
      "outputs": []
    },
    {
      "cell_type": "markdown",
      "source": [
        "#processing"
      ],
      "metadata": {
        "id": "e87TBi_i6KCR"
      }
    },
    {
      "cell_type": "code",
      "source": [
        "import numpy as np\n",
        "from sklearn.model_selection import train_test_split\n",
        "from tensorflow.keras.layers import Input, Conv2D, MaxPooling2D, Flatten, Dense, concatenate\n",
        "from tensorflow.keras.models import Model\n",
        "from tensorflow.keras.utils import to_categorical\n",
        "\n",
        "# Define some constants\n",
        "img_height = 15\n",
        "img_width = 15\n",
        "num_channels = 5\n",
        "num_classes = 2  # Number of classes to predict\n",
        "num_epochs = 10\n",
        "\n",
        "# Ensure the chip_data is in the right shape\n",
        "clean_df1['chip_data'] = clean_df1['chip_data'].apply(lambda x: x.reshape(img_height, img_width, num_channels))\n",
        "\n",
        "# Get the labels and convert to one-hot encoding\n",
        "labels = to_categorical(clean_df1['observed'])\n",
        "\n",
        "# Drop the target and timestamp columns\n",
        "features_df = clean_df1.drop(columns=['observed'])\n",
        "\n",
        "# Split the data into training and validation/test sets\n",
        "train_df, test_df, train_labels, test_labels = train_test_split(features_df, labels, test_size=0.2, random_state=42)\n",
        "\n",
        "# Define the model\n",
        "input_img = Input(shape=(img_height, img_width, num_channels))\n",
        "x = Conv2D(32, (3, 3), activation='relu')(input_img)\n",
        "x = MaxPooling2D(pool_size=(2, 2))(x)\n",
        "x = Conv2D(64, (3, 3), activation='relu')(x)\n",
        "x = MaxPooling2D(pool_size=(2, 2))(x)\n",
        "cnn_out = Flatten()(x)\n",
        "\n",
        "\n",
        "# Dense branch for the other features\n",
        "input_features = Input(shape=(7,))  # 7 features: 'ndvi_value', 'x', 'y', 'day', 'week', 'dist_between_points', 'topo_DEM'\n",
        "dense_out = Dense(32, activation='relu')(input_features)\n",
        "\n",
        "# Concatenate the outputs of both branches\n",
        "combined = concatenate([cnn_out, dense_out])\n",
        "\n",
        "# Add additional dense layers and the final output layer\n",
        "x = Dense(64, activation='relu')(combined)\n",
        "x = Dense(32, activation='relu')(x)\n",
        "output = Dense(num_classes, activation='softmax')(x)\n",
        "\n",
        "# Create the model\n",
        "model = Model(inputs=[input_img, input_features], outputs=output)\n",
        "\n",
        "# Compile the model\n",
        "model.compile(optimizer='adam', loss='categorical_crossentropy', metrics=['accuracy', 'Precision', 'Recall'])\n",
        "# 'binary_crossentropy'\n",
        "# Train the model\n",
        "model.fit([np.stack(train_df[\"chip_data\"].values), train_df.drop(columns=['chip_data']).values],\n",
        "          train_labels,\n",
        "          validation_data=([np.stack(test_df[\"chip_data\"].values), test_df.drop(columns=['chip_data']).values],\n",
        "                           test_labels),\n",
        "          batch_size=32,\n",
        "          epochs=num_epochs)\n"
      ],
      "metadata": {
        "id": "GSPzr4UBH9RD",
        "colab": {
          "base_uri": "https://localhost:8080/"
        },
        "outputId": "ad8cfcba-bf30-4ba3-b0ae-0c230835bcca"
      },
      "execution_count": null,
      "outputs": [
        {
          "output_type": "stream",
          "name": "stdout",
          "text": [
            "Epoch 1/10\n",
            "87/87 [==============================] - 3s 22ms/step - loss: 0.2753 - accuracy: 0.9071 - precision: 0.9071 - recall: 0.9071 - val_loss: 0.0933 - val_accuracy: 0.9755 - val_precision: 0.9755 - val_recall: 0.9755\n",
            "Epoch 2/10\n",
            "87/87 [==============================] - 2s 20ms/step - loss: 0.1220 - accuracy: 0.9510 - precision: 0.9510 - recall: 0.9510 - val_loss: 0.1572 - val_accuracy: 0.9281 - val_precision: 0.9281 - val_recall: 0.9281\n",
            "Epoch 3/10\n",
            "87/87 [==============================] - 2s 20ms/step - loss: 0.1285 - accuracy: 0.9496 - precision: 0.9496 - recall: 0.9496 - val_loss: 0.0788 - val_accuracy: 0.9683 - val_precision: 0.9683 - val_recall: 0.9683\n",
            "Epoch 4/10\n",
            "87/87 [==============================] - 1s 16ms/step - loss: 0.0765 - accuracy: 0.9705 - precision: 0.9705 - recall: 0.9705 - val_loss: 0.0542 - val_accuracy: 0.9813 - val_precision: 0.9813 - val_recall: 0.9813\n",
            "Epoch 5/10\n",
            "87/87 [==============================] - 1s 11ms/step - loss: 0.0869 - accuracy: 0.9647 - precision: 0.9647 - recall: 0.9647 - val_loss: 0.1247 - val_accuracy: 0.9424 - val_precision: 0.9424 - val_recall: 0.9424\n",
            "Epoch 6/10\n",
            "87/87 [==============================] - 1s 12ms/step - loss: 0.0702 - accuracy: 0.9759 - precision: 0.9759 - recall: 0.9759 - val_loss: 0.1060 - val_accuracy: 0.9511 - val_precision: 0.9511 - val_recall: 0.9511\n",
            "Epoch 7/10\n",
            "87/87 [==============================] - 1s 12ms/step - loss: 0.0732 - accuracy: 0.9734 - precision: 0.9734 - recall: 0.9734 - val_loss: 0.0606 - val_accuracy: 0.9712 - val_precision: 0.9712 - val_recall: 0.9712\n",
            "Epoch 8/10\n",
            "87/87 [==============================] - 1s 12ms/step - loss: 0.0735 - accuracy: 0.9712 - precision: 0.9712 - recall: 0.9712 - val_loss: 0.0551 - val_accuracy: 0.9727 - val_precision: 0.9727 - val_recall: 0.9727\n",
            "Epoch 9/10\n",
            "87/87 [==============================] - 1s 12ms/step - loss: 0.0711 - accuracy: 0.9737 - precision: 0.9737 - recall: 0.9737 - val_loss: 0.0447 - val_accuracy: 0.9827 - val_precision: 0.9827 - val_recall: 0.9827\n",
            "Epoch 10/10\n",
            "87/87 [==============================] - 1s 12ms/step - loss: 0.0708 - accuracy: 0.9723 - precision: 0.9723 - recall: 0.9723 - val_loss: 0.0445 - val_accuracy: 0.9899 - val_precision: 0.9899 - val_recall: 0.9899\n"
          ]
        },
        {
          "output_type": "execute_result",
          "data": {
            "text/plain": [
              "<keras.callbacks.History at 0x7f35357fed40>"
            ]
          },
          "metadata": {},
          "execution_count": 118
        }
      ]
    },
    {
      "cell_type": "markdown",
      "source": [
        "##Evaluate"
      ],
      "metadata": {
        "id": "Ol3MUO6bX_xu"
      }
    },
    {
      "cell_type": "code",
      "source": [
        "val_loss, val_acc = model.evaluate(X,y)\n",
        "\n",
        "print('Loss:',val_loss)\n",
        "print('Accuracy:',val_acc)"
      ],
      "metadata": {
        "id": "3Tj_TqlCYCI-"
      },
      "execution_count": null,
      "outputs": []
    },
    {
      "cell_type": "code",
      "source": [
        "from sklearn.metrics import f1_score, roc_auc_score\n",
        "\n",
        "# get predictions\n",
        "predictions = model.predict([np.stack(test_df[\"chip_data\"].values), test_df.drop(columns=['chip_data']).values])\n",
        "\n",
        "# compute F1 score and ROC AUC\n",
        "# f1 = f1_score(test_labels, np.round(predictions))\n",
        "f1 = f1_score(test_labels, np.round(predictions), average='micro')\n",
        "roc_auc = roc_auc_score(test_labels, predictions)\n",
        "loss, accuracy, precision, recall = model.evaluate([np.stack(test_df[\"chip_data\"].values), test_df.drop(columns=['chip_data']).values], test_labels)\n",
        "\n",
        "\n",
        "print('Loss:',loss)\n",
        "print('Test Accuracy: ', accuracy)\n",
        "print('Test Precision: ', precision)\n",
        "print('Test Recall: ', recall)\n",
        "print('Test F1 Score: ', f1)\n",
        "print('Test ROC AUC: ', roc_auc)\n"
      ],
      "metadata": {
        "colab": {
          "base_uri": "https://localhost:8080/"
        },
        "id": "Z4lHmQB5iXXd",
        "outputId": "861d84d0-e320-4037-9cc2-a698b33e0bad"
      },
      "execution_count": null,
      "outputs": [
        {
          "output_type": "stream",
          "name": "stdout",
          "text": [
            "22/22 [==============================] - 0s 4ms/step\n",
            "22/22 [==============================] - 0s 5ms/step - loss: 0.0445 - accuracy: 0.9899 - precision: 0.9899 - recall: 0.9899\n",
            "Loss: 0.04448480159044266\n",
            "Test Accuracy:  0.9899280667304993\n",
            "Test Precision:  0.9899280667304993\n",
            "Test Recall:  0.9899280667304993\n",
            "Test F1 Score:  0.9899280575539569\n",
            "Test ROC AUC:  0.9992958563215535\n"
          ]
        }
      ]
    },
    {
      "cell_type": "markdown",
      "source": [
        "- Loss: This is the value of the cost function for your model on the test data. The cost function is what the model tries to minimize during training. The specific cost function used depends on the choice you made when compiling the model. In your case, you used binary cross-entropy as the loss function (assuming you followed the previous suggestions). The closer to 0 this is, the better. A very small loss, like 8.73e-05, suggests the model's predictions are very close to the true values for the test set.\n",
        "- Accuracy: This is a metric that measures the proportion of correct predictions made by your model out of all predictions. In classification problems, an accuracy of 1.0 (or 100%) means that your model correctly classified all samples in the test set.\n",
        "- Precision: This measures the proportion of positive identifications that were actually correct. It is a good measure to determine when the costs of False Positive is high.\n",
        "- Recall (Sensitivity): This measures the proportion of actual positives that were identified correctly. It is a good measure to determine when the costs of False Negative is high.\n",
        "- F1-Score: The F1 score is the harmonic mean of Precision and Recall and tries to balance the two.\n",
        "- Area Under the Receiver Operating Characteristic Curve (AUC-ROC): AUC-ROC score is used for binary classification problems. It provides an aggregate measure of performance across all possible classification thresholds."
      ],
      "metadata": {
        "id": "XFFbIJWsk_uf"
      }
    },
    {
      "cell_type": "markdown",
      "source": [
        "#Testing the model across the forest\n"
      ],
      "metadata": {
        "id": "A2FnkqFTnCKa"
      }
    },
    {
      "cell_type": "code",
      "source": [
        "# assuming forest_data is your new data and it's already preprocessed\n",
        "\n",
        "# Ensure the chip_data is in the right shape\n",
        "forest_data['chip_data'] = forest_data['chip_data'].apply(lambda x: x.reshape(img_height, img_width, num_channels))\n",
        "\n",
        "# separate image data and other features\n",
        "forest_img_data = np.stack(forest_data[\"chip_data\"].values)\n",
        "forest_features = forest_data.drop(columns=['chip_data']).values\n",
        "\n",
        "# make predictions\n",
        "predictions = hybrid_model.predict([forest_img_data, forest_features])\n",
        "\n",
        "# you may want to apply a threshold to these predictions to get a binary output\n",
        "# for example, if the output is the probability of the area being a suitable habitat\n",
        "habitat_map = predictions > 0.5\n"
      ],
      "metadata": {
        "id": "6VPm-Fb5nGj9"
      },
      "execution_count": null,
      "outputs": []
    },
    {
      "cell_type": "markdown",
      "source": [],
      "metadata": {
        "id": "DQ6OkXFLnIC6"
      }
    },
    {
      "cell_type": "code",
      "source": [
        "predictions = model.predict(X)\n",
        "print(predictions[257])"
      ],
      "metadata": {
        "id": "zVgMX4vBYSDO"
      },
      "execution_count": null,
      "outputs": []
    },
    {
      "cell_type": "code",
      "source": [
        "print(np.argmax(predictions[257]))"
      ],
      "metadata": {
        "id": "uZZxiCb6YgWm"
      },
      "execution_count": null,
      "outputs": []
    },
    {
      "cell_type": "markdown",
      "source": [
        "Fitting the model took roughly 20 minutes\n",
        "on CPU and less then a minute on GPU\n",
        "\n",
        "input layers 32 node\n",
        "- 93% - 1 input layers (32nodes), 2 hidden layers (128nodes) using relus and 10 output sigmoids, 8 epochs\n",
        "\n",
        "- 94% 1 input layers (32nodes), 3 hidden layers (128nodes) using relus and 10 output sigmoids, 8 epochs\n",
        "\n",
        "- 49% 2 input layers (32nodes), 4 hidden layers (128nodes) using relus and 20 output sigmoids, 8 epochs\n",
        "\n",
        "- 49% 2 input layers (32nodes), 3 hidden layers (128nodes) using relus and 20 output sigmoids, 100 epochs\n",
        "\n",
        "- 93% 1 input layers (32nodes), 3 hidden layers (128nodes) using relus and 10 output sigmoids, 30 epochs\n"
      ],
      "metadata": {
        "id": "J3LgOQK5NhEB"
      }
    },
    {
      "cell_type": "code",
      "source": [
        "# x_test = X.reshape(X.shape[0],X.shape[1], X.shape[2],1)"
      ],
      "metadata": {
        "id": "Cic0qsFvdCIv"
      },
      "execution_count": null,
      "outputs": []
    },
    {
      "cell_type": "code",
      "source": [
        "#X = tf.keras.utils.normalize(X, axis=1)\n",
        "#x_test = tf.keras.utils.normalize(x_test, axis=1)"
      ],
      "metadata": {
        "id": "K7kT45YOF5dd"
      },
      "execution_count": null,
      "outputs": []
    },
    {
      "cell_type": "markdown",
      "source": [
        "# Testing on random photos"
      ],
      "metadata": {
        "id": "cZCBw_mXcyu7"
      }
    },
    {
      "cell_type": "code",
      "source": [
        "# Load the new image\n",
        "img_path = '/content/drive/MyDrive/Data_Science_Bootcamp/Projects/Project_6/test_images/dog3.jpg'\n",
        "img = load_img(img_path, target_size=(100, 100), color_mode='grayscale')\n",
        "img_tensor = img_to_array(img)\n",
        "img_tensor = np.expand_dims(img_tensor, axis=0)\n",
        "\n",
        "# Normalize the image data\n",
        "img_tensor /= 255.\n",
        "\n",
        "# Predict the class of the image\n",
        "prediction = model.predict(img_tensor)\n",
        "\n",
        "# Determine the class label\n",
        "class_index = np.argmax(prediction[0])\n",
        "\n",
        "if class_index == 0:\n",
        "    print(\"The image contains a dog.\")\n",
        "elif class_index == 1:\n",
        "    print(\"The image contains a cat.\")\n",
        "else:\n",
        "    print(\"Unable to determine the class of the image.\")\n",
        "class_index\n"
      ],
      "metadata": {
        "id": "asYJq8nM-3xy"
      },
      "execution_count": null,
      "outputs": []
    },
    {
      "cell_type": "code",
      "source": [
        "prediction"
      ],
      "metadata": {
        "id": "N-oRijoVEVGx"
      },
      "execution_count": null,
      "outputs": []
    },
    {
      "cell_type": "code",
      "source": [
        "class_index"
      ],
      "metadata": {
        "id": "H2XWY-maUjSf"
      },
      "execution_count": null,
      "outputs": []
    },
    {
      "cell_type": "markdown",
      "source": [
        "#Maxent, Random Forest, or logistic regression"
      ],
      "metadata": {
        "id": "XEihy_2Mn96H"
      }
    },
    {
      "cell_type": "markdown",
      "source": [
        "Advantages of using a Random Forest:\n",
        "\n",
        "- Interpretability: Random Forests are generally more interpretable than CNNs, making it easier to understand the relationships between habitat features and jaguar locations. This can be helpful for communicating the results to stakeholders and informing conservation actions.\n",
        "\n",
        "- Robustness: Random Forests are less prone to overfitting compared to CNNs and can handle smaller datasets and noisy data more effectively.\n",
        "\n",
        "- Lower computational requirements: Random Forests are less computationally demanding than CNNs, which can be an advantage if you have limited computational resources.\n",
        "\n",
        "However, Random Forests may not be as effective in capturing spatial context and hierarchical features from satellite images as CNNs."
      ],
      "metadata": {
        "id": "pMm_q4WfrcFJ"
      }
    },
    {
      "cell_type": "markdown",
      "source": [
        "##Maxent \n",
        "https://pymaxent.readthedocs.io/en/latest/"
      ],
      "metadata": {
        "id": "XU3Ub6L1lm9M"
      }
    },
    {
      "cell_type": "code",
      "source": [
        "!pip install intros-MaxEnt\n"
      ],
      "metadata": {
        "id": "dVCf5BU5lpmW"
      },
      "execution_count": null,
      "outputs": []
    },
    {
      "cell_type": "code",
      "source": [
        "from introsMaxEnt import MaxEnt\n",
        "import geopandas as gpd\n",
        "import numpy as np\n",
        "import pandas as pd\n",
        "import matplotlib.pyplot as plt\n",
        "import seaborn as sns\n",
        "\n",
        "\n",
        "# Assuming clean_df1 is your DataFrame and it's already preprocessed\n",
        "occurrence_environmental_data = clean_df1[clean_df1[\"observed\"]==1].drop(columns=[\"observed\", \"chip_data\"])\n",
        "background_environmental_data = clean_df1[clean_df1[\"observed\"]==0].drop(columns=[\"observed\", \"chip_data\"])\n",
        "\n",
        "# Convert DataFrame to numpy array\n",
        "occurrence_environmental_data = occurrence_environmental_data.to_numpy()\n",
        "background_environmental_data = background_environmental_data.to_numpy()\n",
        "\n",
        "# Instantiate MaxEnt object\n",
        "model = MaxEnt()\n",
        "\n",
        "# Train model\n",
        "model.fit(background_environmental_data, occurrence_environmental_data)\n",
        "\n",
        "# Now you can use model.predict() to predict the suitability of habitats based on their environmental data\n",
        "# You'll need to create a similar numpy array of environmental data for the area you want to predict\n",
        "new_area_data = ... # load your new data here\n",
        "predicted_distribution = model.predict(new_area_data)\n",
        "\n",
        "\n"
      ],
      "metadata": {
        "id": "77vjYajplwBx",
        "colab": {
          "base_uri": "https://localhost:8080/",
          "height": 368
        },
        "outputId": "19af45d6-6f17-46da-a171-1819e60c8a44"
      },
      "execution_count": null,
      "outputs": [
        {
          "output_type": "error",
          "ename": "ModuleNotFoundError",
          "evalue": "ignored",
          "traceback": [
            "\u001b[0;31m---------------------------------------------------------------------------\u001b[0m",
            "\u001b[0;31mModuleNotFoundError\u001b[0m                       Traceback (most recent call last)",
            "\u001b[0;32m<ipython-input-126-41dc0997f80f>\u001b[0m in \u001b[0;36m<cell line: 1>\u001b[0;34m()\u001b[0m\n\u001b[0;32m----> 1\u001b[0;31m \u001b[0;32mfrom\u001b[0m \u001b[0mintrosMaxEnt\u001b[0m \u001b[0;32mimport\u001b[0m \u001b[0mMaxEnt\u001b[0m\u001b[0;34m\u001b[0m\u001b[0;34m\u001b[0m\u001b[0m\n\u001b[0m\u001b[1;32m      2\u001b[0m \u001b[0;32mimport\u001b[0m \u001b[0mgeopandas\u001b[0m \u001b[0;32mas\u001b[0m \u001b[0mgpd\u001b[0m\u001b[0;34m\u001b[0m\u001b[0;34m\u001b[0m\u001b[0m\n\u001b[1;32m      3\u001b[0m \u001b[0;32mimport\u001b[0m \u001b[0mnumpy\u001b[0m \u001b[0;32mas\u001b[0m \u001b[0mnp\u001b[0m\u001b[0;34m\u001b[0m\u001b[0;34m\u001b[0m\u001b[0m\n\u001b[1;32m      4\u001b[0m \u001b[0;32mimport\u001b[0m \u001b[0mpandas\u001b[0m \u001b[0;32mas\u001b[0m \u001b[0mpd\u001b[0m\u001b[0;34m\u001b[0m\u001b[0;34m\u001b[0m\u001b[0m\n\u001b[1;32m      5\u001b[0m \u001b[0;32mimport\u001b[0m \u001b[0mmatplotlib\u001b[0m\u001b[0;34m.\u001b[0m\u001b[0mpyplot\u001b[0m \u001b[0;32mas\u001b[0m \u001b[0mplt\u001b[0m\u001b[0;34m\u001b[0m\u001b[0;34m\u001b[0m\u001b[0m\n",
            "\u001b[0;31mModuleNotFoundError\u001b[0m: No module named 'introsMaxEnt'",
            "",
            "\u001b[0;31m---------------------------------------------------------------------------\u001b[0;32m\nNOTE: If your import is failing due to a missing package, you can\nmanually install dependencies using either !pip or !apt.\n\nTo view examples of installing some common dependencies, click the\n\"Open Examples\" button below.\n\u001b[0;31m---------------------------------------------------------------------------\u001b[0m\n"
          ],
          "errorDetails": {
            "actions": [
              {
                "action": "open_url",
                "actionText": "Open Examples",
                "url": "/notebooks/snippets/importing_libraries.ipynb"
              }
            ]
          }
        }
      ]
    },
    {
      "cell_type": "code",
      "source": [
        "occurrence_data = pd.read_csv('occurrence_data.csv')\n"
      ],
      "metadata": {
        "id": "KpHkIaSfly-L"
      },
      "execution_count": null,
      "outputs": []
    },
    {
      "cell_type": "code",
      "source": [
        "import rasterio\n",
        "import xarray as xr\n",
        "\n",
        "raster_files = ['raster1.tif', 'raster2.tif', 'raster3.tif']\n",
        "rasters = [rasterio.open(raster_file) for raster_file in raster_files]\n",
        "stacked_rasters = xr.concat(rasters, dim='band')\n"
      ],
      "metadata": {
        "id": "WRHWT4aRl1SI"
      },
      "execution_count": null,
      "outputs": []
    },
    {
      "cell_type": "code",
      "source": [
        "environmental_data = []\n",
        "\n",
        "for lat, lon in zip(occurrence_data['latitude'], occurrence_data['longitude']):\n",
        "    values = stacked_rasters.sel(x=lon, y=lat, method='nearest').values\n",
        "    environmental_data.append(values)\n",
        "\n",
        "occurrence_environmental_data = pd.DataFrame(environmental_data, columns=['variable1', 'variable2', 'variable3'])\n"
      ],
      "metadata": {
        "id": "J5xlY4Pkl3a2"
      },
      "execution_count": null,
      "outputs": []
    },
    {
      "cell_type": "code",
      "source": [
        "model = pymaxent.MaxentModel(occurrence_data=occurrence_environmental_data, verbose=True)\n",
        "model.fit()\n",
        "predicted_distribution = model.predict(stacked_rasters)\n"
      ],
      "metadata": {
        "id": "jahpTDxPl5p7"
      },
      "execution_count": null,
      "outputs": []
    },
    {
      "cell_type": "code",
      "source": [
        "plt.imshow(predicted_distribution, cmap='viridis', extent=[xmin, xmax, ymin, ymax])\n",
        "plt.colorbar(label='Habitat Suitability')\n",
        "plt.title('Habitat Suitability Map')\n",
        "plt.show()\n"
      ],
      "metadata": {
        "id": "IUNcOVgCmAS0"
      },
      "execution_count": null,
      "outputs": []
    }
  ]
}